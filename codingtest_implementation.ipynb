{
 "cells": [
  {
   "cell_type": "markdown",
   "id": "574ba50a",
   "metadata": {},
   "source": [
    "# 코딩테스트 유형 2 - 구현 (Implementation)\n",
    "\n",
    "## 구현 문제에 접근하는 방법\n",
    "- 고차원적인 사고력을 요구하는 문제는 나오지 않기 때문에 문법에 익숙하다면 오히려 쉽게 풀수 있음.\n",
    "- 구현 알고리즘의 대표적 예시 - 1. 상하좌우  2. 시각"
   ]
  },
  {
   "cell_type": "markdown",
   "id": "32a82818",
   "metadata": {},
   "source": [
    "## 1. 상하좌우 문제"
   ]
  },
  {
   "cell_type": "code",
   "execution_count": null,
   "id": "cca22b28",
   "metadata": {},
   "outputs": [],
   "source": [
    "# 1<N<100\n",
    "# 1<이동횟수<100\n",
    "# x, y 공백으로 구분하여 출력한다.\n",
    "\n",
    "'''\n",
    "r 은 x로 +1\n",
    "ㅣ 은 x -1\n",
    "u -> y + 1\n",
    "d -> y - 1\n",
    "\n",
    "그렇다면 개수제한이 존재한다.\n",
    "\n",
    "단순히 푼다면, 그때그때 좌표가 n,n만 넘어가지 않으면 된다.\n",
    "'''\n"
   ]
  },
  {
   "cell_type": "code",
   "execution_count": 12,
   "id": "e1335254",
   "metadata": {},
   "outputs": [
    {
     "name": "stdout",
     "output_type": "stream",
     "text": [
      "5\n",
      "R R R U D D\n",
      "2 1\n",
      "3 1\n",
      "4 1\n",
      "4 1\n",
      "4 2\n",
      "4 3\n",
      "최종 좌표: 3  4\n"
     ]
    }
   ],
   "source": [
    "# n = 3\n",
    "# di = ['R','R','R','U','D','D','L','L','R','R','U','U','U','U','U','L','L','D']\n",
    "\n",
    "n = int(input())\n",
    "di = list(input().split())\n",
    "\n",
    "x = 1\n",
    "y = 1\n",
    "\n",
    "for arrow in di:\n",
    "    if arrow == 'R':\n",
    "        if x == n:\n",
    "            pass\n",
    "        else:\n",
    "            x += 1\n",
    "    if arrow == 'L':\n",
    "        if x == 1:\n",
    "            pass\n",
    "        else:\n",
    "            x -= 1\n",
    "    if arrow == 'U':\n",
    "        if y == 1:\n",
    "            pass\n",
    "        else:\n",
    "            y -= 1\n",
    "    if arrow == 'D':\n",
    "        if y == n:\n",
    "            pass\n",
    "        else:\n",
    "            y += 1\n",
    "    print(y, x)\n",
    "print('최종 좌표:', y,'',x)"
   ]
  },
  {
   "cell_type": "code",
   "execution_count": 15,
   "id": "1b6d0aef",
   "metadata": {},
   "outputs": [
    {
     "name": "stdout",
     "output_type": "stream",
     "text": [
      "5\n",
      "R R R U D D\n",
      "3  4\n"
     ]
    }
   ],
   "source": [
    "# 답안\n",
    "\n",
    "# N을 입력받기\n",
    "n = int(input())\n",
    "x, y = 1, 1\n",
    "plans = input().split()\n",
    "\n",
    "# L, R, U, D에 따른 이동 방향\n",
    "dx = [0, 0, -1, 1]\n",
    "dy = [-1, 1, 0, 0]\n",
    "move_types = ['L','R','U','D']\n",
    "\n",
    "\n",
    "# 이동 방향을 하나씩 확인\n",
    "for plan in plans:\n",
    "    # 이동 후 좌표 구하기\n",
    "    for i in range(len(move_types)):\n",
    "        if plan == move_types[i]:  # move_types중 어느 것인지 고르기\n",
    "            nx = x + dx[i]\n",
    "            ny = y + dy[i]\n",
    "    # 공간을 벗어나는 경우 무시\n",
    "    if nx < 1 or ny < 1 or nx > n or ny > n:\n",
    "        continue\n",
    "    \n",
    "    # 이동 수행\n",
    "    x, y = nx, ny\n",
    "\n",
    "\n",
    "print(x, '', y)\n",
    "\n",
    "\n",
    "\n",
    "\n"
   ]
  },
  {
   "cell_type": "markdown",
   "id": "66d4e394",
   "metadata": {},
   "source": [
    "## 2. 시각\n",
    "정수 N이 입력되면 00시 00분 00초부터 N시 59분 59초까지의 모든 시각 중에서 3이 하나라도 포함되는  \n",
    "모든 경우의 수를 구하는 프로그램을 작성하시오."
   ]
  },
  {
   "cell_type": "code",
   "execution_count": null,
   "id": "bda13ab8",
   "metadata": {},
   "outputs": [],
   "source": [
    "# greedy 방법\n",
    "ab cd ef\n",
    "\n",
    "3이 나오는 경우:\n",
    "f -> 3\n",
    "\n",
    "\n",
    "만약 5시가 주어지면:\n",
    "    1시간 동안 3이 나오는것 * 5\n",
    "그럼 1시간 동안 3이 나오는건 어떻게 세나?\n",
    "\n"
   ]
  },
  {
   "cell_type": "code",
   "execution_count": 38,
   "id": "b157f4cf",
   "metadata": {
    "scrolled": false
   },
   "outputs": [
    {
     "name": "stdout",
     "output_type": "stream",
     "text": [
      "11475\n",
      "0.030469179153442383 sec\n"
     ]
    }
   ],
   "source": [
    "# 아주 단순하게, 매번 3을 탐색해서 나오면 더한다.\n",
    "\n",
    "# 시계 만들기\n",
    "import time\n",
    "\n",
    "t0 = time.time()\n",
    "n = 5\n",
    "h, m, s = 0, 0, 0\n",
    "count = 0\n",
    "for i in range(3600*(n+1)-1): # 1초씩\n",
    "    s += 1\n",
    "    if s == 60:\n",
    "        m += 1\n",
    "        s = 0\n",
    "    if m == 60:\n",
    "        h += 1\n",
    "        m = 0\n",
    "    \n",
    "    if (str(h)+str(m)+str(s)).find('3') != -1:\n",
    "        count+=1\n",
    "    \n",
    "    \n",
    "print(count)\n",
    "print((time.time()-t0),'sec')\n",
    "\n",
    "\n"
   ]
  },
  {
   "cell_type": "code",
   "execution_count": null,
   "id": "b3fd857c",
   "metadata": {},
   "outputs": [],
   "source": []
  }
 ],
 "metadata": {
  "kernelspec": {
   "display_name": "Python 3 (ipykernel)",
   "language": "python",
   "name": "python3"
  },
  "language_info": {
   "codemirror_mode": {
    "name": "ipython",
    "version": 3
   },
   "file_extension": ".py",
   "mimetype": "text/x-python",
   "name": "python",
   "nbconvert_exporter": "python",
   "pygments_lexer": "ipython3",
   "version": "3.9.7"
  }
 },
 "nbformat": 4,
 "nbformat_minor": 5
}
