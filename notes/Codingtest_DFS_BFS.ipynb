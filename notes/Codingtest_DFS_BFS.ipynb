{
 "cells": [
  {
   "cell_type": "markdown",
   "id": "494ed035",
   "metadata": {},
   "source": [
    "## DFS - 깊이 우선 \n",
    "- stack을 이용하여 탐색 (First In Last Out, FILO)\n",
    "- 재귀를 이용"
   ]
  },
  {
   "cell_type": "code",
   "execution_count": 53,
   "id": "67f83a9a",
   "metadata": {},
   "outputs": [],
   "source": [
    "# 연결 리스트 - 왜 9개인지 그 이유는 인덱스와 해당 숫자를 동일하게 그냥 맞춰준 것.\n",
    "graph = [\n",
    "    [],\n",
    "    [2,3,8],\n",
    "    [1,7],\n",
    "    [1,4,5],\n",
    "    [3,5],\n",
    "    [3,4],\n",
    "    [7],\n",
    "    [2,6,8],\n",
    "    [1,7]\n",
    "]"
   ]
  },
  {
   "cell_type": "code",
   "execution_count": 64,
   "id": "e2c8a7c9",
   "metadata": {},
   "outputs": [
    {
     "name": "stdout",
     "output_type": "stream",
     "text": [
      "1 2 7 6 8 3 4 5 CPU times: user 358 µs, sys: 211 µs, total: 569 µs\n",
      "Wall time: 474 µs\n"
     ]
    }
   ],
   "source": [
    "%%time\n",
    "\n",
    "# 예제 코드\n",
    "def dfs(graph, v, visited): \n",
    "    '''\n",
    "    graph : 현재 연결 리스트 구조, \n",
    "    v : 해당 노드, \n",
    "    visited : 방문 여부 리스트 ([True, False, True, ...])\n",
    "    '''\n",
    "    ## 현재 노드를 방문 처리\n",
    "    visited[v] = True\n",
    "    print(v, end=' ') # 방문한 노드를 프린트하기\n",
    "    \n",
    "    ## 현재 노드와 연결된 다른 노드를 재귀적으로 방문\n",
    "    for i in graph[v]:  # v 와 연결된 노드들 중\n",
    "        if not visited[i]:   # visited 안된 노드가 있다면\n",
    "            dfs(graph, i, visited)  # 해당 노드에 대해 dfs를 수행 (재귀)\n",
    "  \n",
    "# visited - 처음엔 방문한 것이 없으니 모두 False이다.\n",
    "visited = [False]*9\n",
    "\n",
    "# DFS 함수 호출. 결과 확인\n",
    "dfs(graph, 1, visited)"
   ]
  },
  {
   "cell_type": "markdown",
   "id": "8f4c96a0",
   "metadata": {},
   "source": [
    "## BFS - 너비 우선 탐색\n",
    "- 큐 이용 (First In First Out, 처음 들어간 것이 먼저 나온다)"
   ]
  },
  {
   "cell_type": "code",
   "execution_count": 67,
   "id": "09d9cfe2",
   "metadata": {},
   "outputs": [
    {
     "name": "stdout",
     "output_type": "stream",
     "text": [
      "1 2 3 8 7 4 5 6 CPU times: user 344 µs, sys: 173 µs, total: 517 µs\n",
      "Wall time: 431 µs\n"
     ]
    }
   ],
   "source": [
    "%%time\n",
    "# BFS 구현\n",
    "visited = [False]*9\n",
    "queue = []\n",
    "def bfs(graph, v, visited):\n",
    "    # 시작노드 queue 에 넣기\n",
    "    queue.append(v)\n",
    "    print(v, end=' ')\n",
    "    visited[v] = True\n",
    "    \n",
    "    while queue:  # queue 가 다 빌때까지 반복\n",
    "        v = queue.pop(0) # 이전 노드를 queue에서 제거하면서 제거한 노드를 v로 지정\n",
    "        for i in graph[v]:\n",
    "            if not visited[i]:\n",
    "                queue.append(i) # queue에 인접요소를 순서대로 append하기\n",
    "                visited[i] = True # 방문 처리\n",
    "                print(i, end=' ')\n",
    "            \n",
    "#         if queue:\n",
    "#             v = queue[0] # queue의 첫번째를 다시 v로 지정\n",
    "# #         print('loop end, queue:', queue)\n",
    "bfs(graph, 1, visited)"
   ]
  },
  {
   "cell_type": "markdown",
   "id": "20846929",
   "metadata": {},
   "source": [
    "## 실전문제 - 음료수 얼려 먹기"
   ]
  },
  {
   "cell_type": "code",
   "execution_count": null,
   "id": "c5d1ab39",
   "metadata": {},
   "outputs": [],
   "source": [
    "# 연결된 / 분리된 곳을 파악해서 나눠야 한다.\n",
    "# BFS 문제\n",
    "\n",
    "0 - 0 - 1 - 1 - 0\n",
    "|   |   |   |   |\n",
    "0 - 0 - 0 - 1 - 1\n",
    "|   |   |   |   |\n",
    "1 - 1 - 1 - 1 - 1\n"
   ]
  },
  {
   "cell_type": "code",
   "execution_count": null,
   "id": "39187cf8",
   "metadata": {},
   "outputs": [],
   "source": [
    "# 연결 리스트로 표현 가능. 왼쪽 위부터 한 행씩 훑으면서 순서를 정한다.\n",
    "(0,0), (0,1), (0,2), (0,3), (0,4), (1,0), --\n",
    "[0, 0]\n",
    "[0,0,1]\n",
    "[0,0,1]\n",
    "[1,1]\n",
    "\n",
    "이렇게 할때 연결된 0 탐색이 끝나는 때마다 아이스크림 1개씩 추가시키면 된다.\n",
    "\n",
    "1. 값을 기입할때 연결리스트가 만들어지도록 하는 방법이 있을까?\n",
    "첫줄 - \n",
    "\n",
    "2. 전체 리스트에서 연결리스트를 만들기. 서쪽부터 반시계 방향 순서로 하자.\n",
    "리스트 좌표 : ([i,i-1], [i+1,i], [i, i+1], [i-1, i])\n",
    "단 좌표가 인덱스 벗어나면 그냥 없는것.\n",
    "\n"
   ]
  },
  {
   "cell_type": "code",
   "execution_count": 158,
   "id": "0169c0ea",
   "metadata": {},
   "outputs": [
    {
     "name": "stdout",
     "output_type": "stream",
     "text": [
      "15 14\n",
      "0 0 0 0 0 1 1 1 1 0 0 0 0 0\n",
      "1 1 1 1 1 1 0 1 1 1 1 1 1 0\n",
      "1 1 0 1 1 1 0 1 1 0 1 1 1 0\n",
      "1 1 0 1 1 1 0 1 1 0 0 0 0 0\n",
      "1 1 0 1 1 1 1 1 1 1 1 1 1 1\n",
      "1 1 0 1 1 1 1 1 1 1 1 1 0 0\n",
      "1 1 0 0 0 0 0 0 0 1 1 1 1 1\n",
      "0 1 1 1 1 1 1 1 1 1 1 1 1 1\n",
      "0 0 0 0 0 0 0 0 0 1 1 1 1 1\n",
      "0 1 1 1 1 1 1 1 1 1 1 0 0 0\n",
      "0 0 0 1 1 1 1 1 1 1 1 0 0 0\n",
      "0 0 0 0 0 0 0 1 1 1 1 0 0 0\n",
      "1 1 1 1 1 1 1 1 1 1 0 0 1 1\n",
      "1 1 1 0 0 0 1 1 1 1 1 1 1 1\n",
      "1 1 1 0 0 0 1 1 1 1 1 1 1 1\n",
      "8\n"
     ]
    }
   ],
   "source": [
    "# 리스트에서 연결리스트를 만들기\n",
    "N, M = map(int, input().split(' '))\n",
    "\n",
    "tray = []\n",
    "number = 0\n",
    "for line in range(N):\n",
    "    tray_row = []\n",
    "    for inp in [int(i) for i in input().split(' ')]:\n",
    "        if inp == 0:\n",
    "            number+=1\n",
    "            tray_row.append(number)\n",
    "        else:\n",
    "            tray_row.append(-1)\n",
    "    tray.append(tray_row)\n",
    "            \n",
    "\n",
    "\n",
    "\n",
    "\n",
    "linked = {}\n",
    "for row in range(N):\n",
    "    for col in range(M):\n",
    "        node=[]\n",
    "        if col-1 >= 0:\n",
    "            node.append(tray[row][col-1])\n",
    "        if row+1 < N:\n",
    "            node.append(tray[row+1][col])\n",
    "        if col+1 < M:\n",
    "            node.append(tray[row][col+1])\n",
    "        if row-1 >= 0:\n",
    "            node.append(tray[row-1][col])\n",
    "            \n",
    "        linked[tray[row][col]] = node\n",
    "        \n",
    "linked.pop(-1)\n",
    "\n",
    "\n",
    "\n",
    "# 방문여부 리스트\n",
    "visited = [False]*(len(linked)+1)\n",
    "\n",
    "\n",
    "\n",
    "# BFS - queue\n",
    "# 방문 안한노드부터 시작\n",
    "\n",
    "icecream_count = 0 # 아이스크림 제조 횟수\n",
    "\n",
    "\n",
    "for v in linked:\n",
    "\n",
    "    # BFS\n",
    "    queue=[]\n",
    "    if not visited[v]: # 방문 안했을때\n",
    "        queue.append(v) # queue 에 해당 0 넣고 BFS 시작\n",
    "        visited[v] = True # 방문처리\n",
    "        while queue:\n",
    "            v = queue.pop(0) # queue에서 꺼냄\n",
    "            for linked_node in linked[v]:     \n",
    "                if not visited[linked_node] and linked_node != -1:\n",
    "                    queue.append(linked_node) \n",
    "                    visited[linked_node] = True\n",
    "                \n",
    "        icecream_count += 1 # BFS 끝나면 count 1 추가\n",
    "        \n",
    "print(icecream_count)\n",
    "\n"
   ]
  },
  {
   "cell_type": "code",
   "execution_count": 160,
   "id": "5df5d00b",
   "metadata": {},
   "outputs": [
    {
     "name": "stdout",
     "output_type": "stream",
     "text": [
      "4 5\n",
      "00110\n",
      "00011\n",
      "11111\n",
      "00000\n",
      "3\n"
     ]
    }
   ],
   "source": [
    "# 답안 \n",
    "# N, M 을 공백으로 구분하여 입력받기\n",
    "n, m = map(int, input().split())\n",
    "\n",
    "# 2차원 리스트의 맵 정보 입력받기\n",
    "graph = []\n",
    "for i in range(n):\n",
    "    graph.append(list(map(int, input())))\n",
    "    \n",
    "    \n",
    "# DFS로 특정한 노드를 방문한 뒤에 연결된 모든 노드들도 방문\n",
    "def dfs(x,y):\n",
    "    # 주어진 범위를 벗어나는 경우에는 즉시 종료\n",
    "    if x <= -1 or x >= n or y <= -1 or y >= m:\n",
    "        return False\n",
    "    # 현재 노드를 아직 방문하지 않았다면\n",
    "    if graph[x][y] == 0:\n",
    "        # 해당 노드 방문처리\n",
    "        graph[x][y] = 1\n",
    "        # 상하좌우 위치 모두 재귀적으로 호출. 범위 벗어나면 종료됨\n",
    "        dfs(x - 1, y)\n",
    "        dfs(x, y - 1)\n",
    "        dfs(x + 1, y)\n",
    "        dfs(x, y + 1)\n",
    "        return True\n",
    "    return False\n",
    "\n",
    "# 모든 노드(위치)에 대하여 음료수 채우기\n",
    "result = 0\n",
    "for i in range(n):\n",
    "    for j in range(m):\n",
    "        # 현재 위치에서 DFS 수행 - 방문했다면 False, 방문하지 않았다면 True 반환. 한번 dfs 가 실행되면 주변에 모두가 방문처리됨.\n",
    "        if dfs(i, j) == True:\n",
    "            result += 1\n",
    "    \n",
    "    \n",
    "    \n",
    "print(result)"
   ]
  },
  {
   "cell_type": "markdown",
   "id": "504cccdc",
   "metadata": {},
   "source": [
    "## 복기\n",
    "내 풀이는 BFS 를 쓴 반면, 해설은 DFS를 써서 재귀적으로 학습했다.   \n",
    "둘다 쓸 수 있고 BFS가 좀더 직관적으로 풀기 쉽다. 하지만 코드의 양은 DFS 가 훨씬 간단하다.  \n",
    "DFS 로 가능하다면 재귀로 풀 수 있는지를 살펴보아야 할 것이다. 하지만 재귀를 구현하기는 꽤나 어렵다.   "
   ]
  },
  {
   "cell_type": "markdown",
   "id": "71865180",
   "metadata": {},
   "source": [
    "## 실전문제 : 미로 탈출"
   ]
  },
  {
   "cell_type": "code",
   "execution_count": 225,
   "id": "2726b113",
   "metadata": {
    "scrolled": true
   },
   "outputs": [
    {
     "name": "stdout",
     "output_type": "stream",
     "text": [
      "10 7\n",
      "1000000\n",
      "1111111\n",
      "0000010\n",
      "1111110\n",
      "0011100\n",
      "1110110\n",
      "1011010\n",
      "1000010\n",
      "1000011\n",
      "1110001\n",
      "1 0\n",
      "0 0\n",
      "1 1\n",
      "1 2\n",
      "1 3\n",
      "1 4\n",
      "1 5\n",
      "2 5\n",
      "1 6\n",
      "3 5\n",
      "3 4\n",
      "4 4\n",
      "3 3\n",
      "5 4\n",
      "4 3\n",
      "3 2\n",
      "5 5\n",
      "4 2\n",
      "3 1\n",
      "6 5\n",
      "5 2\n",
      "3 0\n",
      "7 5\n",
      "6 2\n",
      "5 1\n",
      "8 5\n",
      "6 3\n",
      "5 0\n",
      "8 6\n",
      "6 0\n",
      "9 6\n",
      "ans: 18\n"
     ]
    }
   ],
   "source": [
    "# 괴물이 있는 부분 0 / 없는부분 1\n",
    "N, M = map(int, input().split(' '))\n",
    "puz = []\n",
    "for i in range(N):\n",
    "    row = [int(j) for j in list(input())]\n",
    "    puz.append(row)\n",
    "\n",
    "\n",
    "# 첫 방문 (0, 0)\n",
    "x0, y0 = (0, 0)\n",
    "puz[x0][y0] = 1 # 방문처리 - 거리정보를 담는다\n",
    "\n",
    "\n",
    "# BFS\n",
    "queue = [(x0,y0)] # queue엔 좌표를 담는다\n",
    "\n",
    "while queue:\n",
    "\n",
    "    x0, y0 = queue.pop(0) # 남아있는 x,y 를 탐색좌표로 지정하면서 queue에서 제거\n",
    "    \n",
    "    # 상하좌우를 순서대로 선택해서 조건에 맞게 1씩 더해서 방문처리하고, 방문처리한 경우 queue에 넣는다\n",
    "    for x, y in [(x0-1, y0), (x0+1, y0), (x0, y0-1), (x0, y0+1)]: #상하좌우\n",
    "        \n",
    "        if x == N or y == M or x == -1 or y == -1:\n",
    "            continue\n",
    "        elif puz[x][y] == 1: # 갈수있는 곳\n",
    "            puz[x][y] = puz[x0][y0]+1 # 방문처리 - *여기에 1씩 더해서 표기를 하면 이동한 거리 표시가 된다!*\n",
    "            queue.append((x,y)) # queue에 간곳을 추가\n",
    "            print(x,y)\n",
    "            \n",
    "            \n",
    "        if (x, y) == (N-1, M-1): \n",
    "            break   # 목표점 도달 시 종료\n",
    "        \n",
    "    if (x, y) == (N-1, M-1):\n",
    "        break  # 목표점 도달 시 종료\n",
    "    \n",
    "print('ans:', puz[x][y])\n",
    "# 모든 경로를 어떻게 구하며 그 중 최소를 어떻게 찾지? - 어차피 '너비우선'이니까 도착점이 나오는즉시 종료하면 그게 최소다.\n",
    "# (M, N)을 찾았을때 무엇을 세야 하나? - 그동안 칸마다 입력한 거리를 출력하면 된다.\n",
    "\n"
   ]
  },
  {
   "cell_type": "code",
   "execution_count": null,
   "id": "15dcdede",
   "metadata": {},
   "outputs": [],
   "source": []
  }
 ],
 "metadata": {
  "kernelspec": {
   "display_name": "DA",
   "language": "python",
   "name": "da"
  },
  "language_info": {
   "codemirror_mode": {
    "name": "ipython",
    "version": 3
   },
   "file_extension": ".py",
   "mimetype": "text/x-python",
   "name": "python",
   "nbconvert_exporter": "python",
   "pygments_lexer": "ipython3",
   "version": "3.8.12"
  }
 },
 "nbformat": 4,
 "nbformat_minor": 5
}
