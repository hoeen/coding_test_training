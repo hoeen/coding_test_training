{
 "cells": [
  {
   "cell_type": "code",
   "execution_count": 4,
   "id": "7cc37bac",
   "metadata": {},
   "outputs": [
    {
     "data": {
      "text/plain": [
       "[[1, 2, 3], [3, 2, 1]]"
      ]
     },
     "execution_count": 4,
     "metadata": {},
     "output_type": "execute_result"
    }
   ],
   "source": [
    "[[1,2,3],[3,2,1]]"
   ]
  },
  {
   "cell_type": "code",
   "execution_count": 5,
   "id": "483dc9a0",
   "metadata": {},
   "outputs": [],
   "source": [
    "input_list = [1,2,3]\n",
    "k = 2"
   ]
  },
  {
   "cell_type": "code",
   "execution_count": 7,
   "id": "7e157f24",
   "metadata": {},
   "outputs": [
    {
     "data": {
      "text/plain": [
       "6"
      ]
     },
     "execution_count": 7,
     "metadata": {},
     "output_type": "execute_result"
    }
   ],
   "source": [
    "count = 1\n",
    "for i in range(len(input_list)-k+1, len(input_list)+1):\n",
    "    count = count*i\n",
    "    \n",
    "# [1],[2],[3]\n",
    "# [2][3] , [1][3], [1][2]\n",
    "\n",
    "for num in input_list:\n",
    "    \n",
    "[1]*(남은,[2],[3]\n",
    "return k + func()"
   ]
  },
  {
   "cell_type": "code",
   "execution_count": 14,
   "id": "a6360086",
   "metadata": {},
   "outputs": [
    {
     "data": {
      "text/plain": [
       "True"
      ]
     },
     "execution_count": 14,
     "metadata": {},
     "output_type": "execute_result"
    }
   ],
   "source": [
    "bool(1)"
   ]
  },
  {
   "cell_type": "code",
   "execution_count": null,
   "id": "97f29c6f",
   "metadata": {},
   "outputs": [],
   "source": [
    "[1,2,3,4,5] -> 5p4 -> 5*4*3*2 - > 하나당 4*3*2개\n"
   ]
  },
  {
   "cell_type": "code",
   "execution_count": 19,
   "id": "86307c60",
   "metadata": {
    "scrolled": true
   },
   "outputs": [
    {
     "name": "stdout",
     "output_type": "stream",
     "text": [
      "[1]\n",
      "[1, 2]\n",
      "[1, 2, 3]\n",
      "[1, 2, 3, 4]\n",
      "generated! [1, 2, 3, 4]\n",
      "[1, 2, 3, 5]\n",
      "generated! [1, 2, 3, 5]\n",
      "[1, 2, 4]\n",
      "[1, 2, 4, 3]\n",
      "generated! [1, 2, 4, 3]\n",
      "[1, 2, 4, 5]\n",
      "generated! [1, 2, 4, 5]\n",
      "[1, 2, 5]\n",
      "[1, 2, 5, 3]\n",
      "generated! [1, 2, 5, 3]\n",
      "[1, 2, 5, 4]\n",
      "generated! [1, 2, 5, 4]\n",
      "[1, 3]\n",
      "[1, 3, 2]\n",
      "[1, 3, 2, 4]\n",
      "generated! [1, 3, 2, 4]\n",
      "[1, 3, 2, 5]\n",
      "generated! [1, 3, 2, 5]\n",
      "[1, 3, 4]\n",
      "[1, 3, 4, 2]\n",
      "generated! [1, 3, 4, 2]\n",
      "[1, 3, 4, 5]\n",
      "generated! [1, 3, 4, 5]\n",
      "[1, 3, 5]\n",
      "[1, 3, 5, 2]\n",
      "generated! [1, 3, 5, 2]\n",
      "[1, 3, 5, 4]\n",
      "generated! [1, 3, 5, 4]\n",
      "[1, 4]\n",
      "[1, 4, 2]\n",
      "[1, 4, 2, 3]\n",
      "generated! [1, 4, 2, 3]\n",
      "[1, 4, 2, 5]\n",
      "generated! [1, 4, 2, 5]\n",
      "[1, 4, 3]\n",
      "[1, 4, 3, 2]\n",
      "generated! [1, 4, 3, 2]\n",
      "[1, 4, 3, 5]\n",
      "generated! [1, 4, 3, 5]\n",
      "[1, 4, 5]\n",
      "[1, 4, 5, 2]\n",
      "generated! [1, 4, 5, 2]\n",
      "[1, 4, 5, 3]\n",
      "generated! [1, 4, 5, 3]\n",
      "[1, 5]\n",
      "[1, 5, 2]\n",
      "[1, 5, 2, 3]\n",
      "generated! [1, 5, 2, 3]\n",
      "[1, 5, 2, 4]\n",
      "generated! [1, 5, 2, 4]\n",
      "[1, 5, 3]\n",
      "[1, 5, 3, 2]\n",
      "generated! [1, 5, 3, 2]\n",
      "[1, 5, 3, 4]\n",
      "generated! [1, 5, 3, 4]\n",
      "[1, 5, 4]\n",
      "[1, 5, 4, 2]\n",
      "generated! [1, 5, 4, 2]\n",
      "[1, 5, 4, 3]\n",
      "generated! [1, 5, 4, 3]\n",
      "[2]\n",
      "[2, 1]\n",
      "[2, 1, 3]\n",
      "[2, 1, 3, 4]\n",
      "generated! [2, 1, 3, 4]\n",
      "[2, 1, 3, 5]\n",
      "generated! [2, 1, 3, 5]\n",
      "[2, 1, 4]\n",
      "[2, 1, 4, 3]\n",
      "generated! [2, 1, 4, 3]\n",
      "[2, 1, 4, 5]\n",
      "generated! [2, 1, 4, 5]\n",
      "[2, 1, 5]\n",
      "[2, 1, 5, 3]\n",
      "generated! [2, 1, 5, 3]\n",
      "[2, 1, 5, 4]\n",
      "generated! [2, 1, 5, 4]\n",
      "[2, 3]\n",
      "[2, 3, 1]\n",
      "[2, 3, 1, 4]\n",
      "generated! [2, 3, 1, 4]\n",
      "[2, 3, 1, 5]\n",
      "generated! [2, 3, 1, 5]\n",
      "[2, 3, 4]\n",
      "[2, 3, 4, 1]\n",
      "generated! [2, 3, 4, 1]\n",
      "[2, 3, 4, 5]\n",
      "generated! [2, 3, 4, 5]\n",
      "[2, 3, 5]\n",
      "[2, 3, 5, 1]\n",
      "generated! [2, 3, 5, 1]\n",
      "[2, 3, 5, 4]\n",
      "generated! [2, 3, 5, 4]\n",
      "[2, 4]\n",
      "[2, 4, 1]\n",
      "[2, 4, 1, 3]\n",
      "generated! [2, 4, 1, 3]\n",
      "[2, 4, 1, 5]\n",
      "generated! [2, 4, 1, 5]\n",
      "[2, 4, 3]\n",
      "[2, 4, 3, 1]\n",
      "generated! [2, 4, 3, 1]\n",
      "[2, 4, 3, 5]\n",
      "generated! [2, 4, 3, 5]\n",
      "[2, 4, 5]\n",
      "[2, 4, 5, 1]\n",
      "generated! [2, 4, 5, 1]\n",
      "[2, 4, 5, 3]\n",
      "generated! [2, 4, 5, 3]\n",
      "[2, 5]\n",
      "[2, 5, 1]\n",
      "[2, 5, 1, 3]\n",
      "generated! [2, 5, 1, 3]\n",
      "[2, 5, 1, 4]\n",
      "generated! [2, 5, 1, 4]\n",
      "[2, 5, 3]\n",
      "[2, 5, 3, 1]\n",
      "generated! [2, 5, 3, 1]\n",
      "[2, 5, 3, 4]\n",
      "generated! [2, 5, 3, 4]\n",
      "[2, 5, 4]\n",
      "[2, 5, 4, 1]\n",
      "generated! [2, 5, 4, 1]\n",
      "[2, 5, 4, 3]\n",
      "generated! [2, 5, 4, 3]\n",
      "[3]\n",
      "[3, 1]\n",
      "[3, 1, 2]\n",
      "[3, 1, 2, 4]\n",
      "generated! [3, 1, 2, 4]\n",
      "[3, 1, 2, 5]\n",
      "generated! [3, 1, 2, 5]\n",
      "[3, 1, 4]\n",
      "[3, 1, 4, 2]\n",
      "generated! [3, 1, 4, 2]\n",
      "[3, 1, 4, 5]\n",
      "generated! [3, 1, 4, 5]\n",
      "[3, 1, 5]\n",
      "[3, 1, 5, 2]\n",
      "generated! [3, 1, 5, 2]\n",
      "[3, 1, 5, 4]\n",
      "generated! [3, 1, 5, 4]\n",
      "[3, 2]\n",
      "[3, 2, 1]\n",
      "[3, 2, 1, 4]\n",
      "generated! [3, 2, 1, 4]\n",
      "[3, 2, 1, 5]\n",
      "generated! [3, 2, 1, 5]\n",
      "[3, 2, 4]\n",
      "[3, 2, 4, 1]\n",
      "generated! [3, 2, 4, 1]\n",
      "[3, 2, 4, 5]\n",
      "generated! [3, 2, 4, 5]\n",
      "[3, 2, 5]\n",
      "[3, 2, 5, 1]\n",
      "generated! [3, 2, 5, 1]\n",
      "[3, 2, 5, 4]\n",
      "generated! [3, 2, 5, 4]\n",
      "[3, 4]\n",
      "[3, 4, 1]\n",
      "[3, 4, 1, 2]\n",
      "generated! [3, 4, 1, 2]\n",
      "[3, 4, 1, 5]\n",
      "generated! [3, 4, 1, 5]\n",
      "[3, 4, 2]\n",
      "[3, 4, 2, 1]\n",
      "generated! [3, 4, 2, 1]\n",
      "[3, 4, 2, 5]\n",
      "generated! [3, 4, 2, 5]\n",
      "[3, 4, 5]\n",
      "[3, 4, 5, 1]\n",
      "generated! [3, 4, 5, 1]\n",
      "[3, 4, 5, 2]\n",
      "generated! [3, 4, 5, 2]\n",
      "[3, 5]\n",
      "[3, 5, 1]\n",
      "[3, 5, 1, 2]\n",
      "generated! [3, 5, 1, 2]\n",
      "[3, 5, 1, 4]\n",
      "generated! [3, 5, 1, 4]\n",
      "[3, 5, 2]\n",
      "[3, 5, 2, 1]\n",
      "generated! [3, 5, 2, 1]\n",
      "[3, 5, 2, 4]\n",
      "generated! [3, 5, 2, 4]\n",
      "[3, 5, 4]\n",
      "[3, 5, 4, 1]\n",
      "generated! [3, 5, 4, 1]\n",
      "[3, 5, 4, 2]\n",
      "generated! [3, 5, 4, 2]\n",
      "[4]\n",
      "[4, 1]\n",
      "[4, 1, 2]\n",
      "[4, 1, 2, 3]\n",
      "generated! [4, 1, 2, 3]\n",
      "[4, 1, 2, 5]\n",
      "generated! [4, 1, 2, 5]\n",
      "[4, 1, 3]\n",
      "[4, 1, 3, 2]\n",
      "generated! [4, 1, 3, 2]\n",
      "[4, 1, 3, 5]\n",
      "generated! [4, 1, 3, 5]\n",
      "[4, 1, 5]\n",
      "[4, 1, 5, 2]\n",
      "generated! [4, 1, 5, 2]\n",
      "[4, 1, 5, 3]\n",
      "generated! [4, 1, 5, 3]\n",
      "[4, 2]\n",
      "[4, 2, 1]\n",
      "[4, 2, 1, 3]\n",
      "generated! [4, 2, 1, 3]\n",
      "[4, 2, 1, 5]\n",
      "generated! [4, 2, 1, 5]\n",
      "[4, 2, 3]\n",
      "[4, 2, 3, 1]\n",
      "generated! [4, 2, 3, 1]\n",
      "[4, 2, 3, 5]\n",
      "generated! [4, 2, 3, 5]\n",
      "[4, 2, 5]\n",
      "[4, 2, 5, 1]\n",
      "generated! [4, 2, 5, 1]\n",
      "[4, 2, 5, 3]\n",
      "generated! [4, 2, 5, 3]\n",
      "[4, 3]\n",
      "[4, 3, 1]\n",
      "[4, 3, 1, 2]\n",
      "generated! [4, 3, 1, 2]\n",
      "[4, 3, 1, 5]\n",
      "generated! [4, 3, 1, 5]\n",
      "[4, 3, 2]\n",
      "[4, 3, 2, 1]\n",
      "generated! [4, 3, 2, 1]\n",
      "[4, 3, 2, 5]\n",
      "generated! [4, 3, 2, 5]\n",
      "[4, 3, 5]\n",
      "[4, 3, 5, 1]\n",
      "generated! [4, 3, 5, 1]\n",
      "[4, 3, 5, 2]\n",
      "generated! [4, 3, 5, 2]\n",
      "[4, 5]\n",
      "[4, 5, 1]\n",
      "[4, 5, 1, 2]\n",
      "generated! [4, 5, 1, 2]\n",
      "[4, 5, 1, 3]\n",
      "generated! [4, 5, 1, 3]\n",
      "[4, 5, 2]\n",
      "[4, 5, 2, 1]\n",
      "generated! [4, 5, 2, 1]\n",
      "[4, 5, 2, 3]\n",
      "generated! [4, 5, 2, 3]\n",
      "[4, 5, 3]\n",
      "[4, 5, 3, 1]\n",
      "generated! [4, 5, 3, 1]\n",
      "[4, 5, 3, 2]\n",
      "generated! [4, 5, 3, 2]\n",
      "[5]\n",
      "[5, 1]\n",
      "[5, 1, 2]\n",
      "[5, 1, 2, 3]\n",
      "generated! [5, 1, 2, 3]\n",
      "[5, 1, 2, 4]\n",
      "generated! [5, 1, 2, 4]\n",
      "[5, 1, 3]\n",
      "[5, 1, 3, 2]\n",
      "generated! [5, 1, 3, 2]\n",
      "[5, 1, 3, 4]\n",
      "generated! [5, 1, 3, 4]\n",
      "[5, 1, 4]\n",
      "[5, 1, 4, 2]\n",
      "generated! [5, 1, 4, 2]\n",
      "[5, 1, 4, 3]\n",
      "generated! [5, 1, 4, 3]\n",
      "[5, 2]\n",
      "[5, 2, 1]\n",
      "[5, 2, 1, 3]\n",
      "generated! [5, 2, 1, 3]\n",
      "[5, 2, 1, 4]\n",
      "generated! [5, 2, 1, 4]\n",
      "[5, 2, 3]\n",
      "[5, 2, 3, 1]\n",
      "generated! [5, 2, 3, 1]\n",
      "[5, 2, 3, 4]\n",
      "generated! [5, 2, 3, 4]\n",
      "[5, 2, 4]\n",
      "[5, 2, 4, 1]\n",
      "generated! [5, 2, 4, 1]\n",
      "[5, 2, 4, 3]\n",
      "generated! [5, 2, 4, 3]\n",
      "[5, 3]\n",
      "[5, 3, 1]\n",
      "[5, 3, 1, 2]\n",
      "generated! [5, 3, 1, 2]\n",
      "[5, 3, 1, 4]\n",
      "generated! [5, 3, 1, 4]\n",
      "[5, 3, 2]\n",
      "[5, 3, 2, 1]\n",
      "generated! [5, 3, 2, 1]\n",
      "[5, 3, 2, 4]\n",
      "generated! [5, 3, 2, 4]\n",
      "[5, 3, 4]\n",
      "[5, 3, 4, 1]\n",
      "generated! [5, 3, 4, 1]\n",
      "[5, 3, 4, 2]\n",
      "generated! [5, 3, 4, 2]\n",
      "[5, 4]\n",
      "[5, 4, 1]\n",
      "[5, 4, 1, 2]\n",
      "generated! [5, 4, 1, 2]\n",
      "[5, 4, 1, 3]\n",
      "generated! [5, 4, 1, 3]\n",
      "[5, 4, 2]\n",
      "[5, 4, 2, 1]\n",
      "generated! [5, 4, 2, 1]\n",
      "[5, 4, 2, 3]\n",
      "generated! [5, 4, 2, 3]\n",
      "[5, 4, 3]\n",
      "[5, 4, 3, 1]\n",
      "generated! [5, 4, 3, 1]\n",
      "[5, 4, 3, 2]\n",
      "generated! [5, 4, 3, 2]\n"
     ]
    }
   ],
   "source": [
    "# permutation\n",
    "\n",
    "# 1. 재귀를 이용한 구현\n",
    "def permutation(arr, r):\n",
    "    # 1. \n",
    "    arr = sorted(arr)\n",
    "    used = [0 for _ in range(len(arr))]\n",
    "    \n",
    "    def generate(chosen, used):\n",
    "        # 2.\n",
    "        if len(chosen) == r:\n",
    "            print('generated!', chosen)\n",
    "            return \n",
    "        \n",
    "        # 3. \n",
    "        for i in range(len(arr)):\n",
    "            if not used[i]:\n",
    "                chosen.append(arr[i])\n",
    "                print(chosen)\n",
    "                used[i] = 1\n",
    "                generate(chosen, used)\n",
    "                used[i] = 0\n",
    "                chosen.pop()\n",
    "    \n",
    "    generate([], used)\n",
    "    \n",
    "permutation([1,2,3,4,5],4)\n",
    "\n",
    "\n",
    "# 2. 반복문으로 구현\n",
    "\n",
    "\n",
    "\n",
    "# 3. 제너레이터(yield)를 이용한 구현\n"
   ]
  },
  {
   "cell_type": "code",
   "execution_count": 39,
   "id": "173655ba",
   "metadata": {},
   "outputs": [
    {
     "data": {
      "text/plain": [
       "[[1, 2, 3], [4, 5, 6]]"
      ]
     },
     "execution_count": 39,
     "metadata": {},
     "output_type": "execute_result"
    }
   ],
   "source": [
    "[] + [[1,2,3]] + [[4,5,6]]"
   ]
  },
  {
   "cell_type": "code",
   "execution_count": 45,
   "id": "5b21d651",
   "metadata": {},
   "outputs": [
    {
     "name": "stdout",
     "output_type": "stream",
     "text": [
      "[1, 2, 3]\n",
      "[1, 2, 4]\n",
      "[1, 3, 2]\n",
      "[1, 3, 4]\n",
      "[1, 4, 2]\n",
      "[1, 4, 3]\n",
      "[2, 1, 3]\n",
      "[2, 1, 4]\n",
      "[2, 3, 1]\n",
      "[2, 3, 4]\n",
      "[2, 4, 1]\n",
      "[2, 4, 3]\n",
      "[3, 1, 2]\n",
      "[3, 1, 4]\n",
      "[3, 2, 1]\n",
      "[3, 2, 4]\n",
      "[3, 4, 1]\n",
      "[3, 4, 2]\n",
      "[4, 1, 2]\n",
      "[4, 1, 3]\n",
      "[4, 2, 1]\n",
      "[4, 2, 3]\n",
      "[4, 3, 1]\n",
      "[4, 3, 2]\n"
     ]
    }
   ],
   "source": [
    "# permutation\n",
    "# 재귀를 이용한 구현\n",
    "\n",
    "def perm(arr, k):\n",
    "    arr = sorted(arr)\n",
    "    visited = [0 for _ in range(len(arr))]\n",
    "\n",
    "    def generator(chosen):\n",
    "        \n",
    "        if len(chosen) == k:\n",
    "            print(chosen)\n",
    "            return\n",
    "        \n",
    "        for i in range(len(arr)):\n",
    "            if not visited[i]:\n",
    "                chosen.append(arr[i])\n",
    "                visited[i] = 1\n",
    "                generator(chosen)\n",
    "                visited[i] = 0\n",
    "                chosen.pop()\n",
    "                \n",
    "                \n",
    "    generator([])\n",
    "    \n",
    "\n",
    "\n",
    "perm([1,2,3,4],3)\n",
    "\n",
    "    \n",
    "        "
   ]
  },
  {
   "cell_type": "markdown",
   "id": "f55cddcb",
   "metadata": {},
   "source": [
    "위 재귀를 이용한 방법은 print만 가능하고, 결과값 반환하도록 수정하기가 까다롭다."
   ]
  },
  {
   "cell_type": "code",
   "execution_count": 47,
   "id": "82b257ab",
   "metadata": {},
   "outputs": [
    {
     "data": {
      "text/plain": [
       "[[1, 2, 3], [2, 1, 3], [3, 1, 2], [1, 3, 2], [2, 3, 1], [3, 2, 1]]"
      ]
     },
     "execution_count": 47,
     "metadata": {},
     "output_type": "execute_result"
    }
   ],
   "source": [
    "# permutation\n",
    "# 반복을 이용한 구현 - 한 배열에서 계속 순서를 바꿔가며 출력\n",
    "def permute(arr):\n",
    "    result = [arr[:]]\n",
    "    c = [0] * len(arr)\n",
    "    i = 0\n",
    "    while i < len(arr):\n",
    "        if c[i] < i:\n",
    "            if i % 2 == 0:  #짝\n",
    "                arr[0], arr[i] = arr[i], arr[0]\n",
    "            else:           #홀\n",
    "                arr[c[i]], arr[i] = arr[i], arr[c[i]]\n",
    "            result.append(arr[:])\n",
    "            c[i] += 1\n",
    "            i = 0\n",
    "        \n",
    "        else:\n",
    "            c[i] = 0\n",
    "            i += 1\n",
    "    return result\n",
    "\n",
    "permute([1,2,3])\n"
   ]
  },
  {
   "cell_type": "code",
   "execution_count": 48,
   "id": "f255e104",
   "metadata": {
    "scrolled": true
   },
   "outputs": [
    {
     "data": {
      "text/plain": [
       "[['A', 'B', 'C', 'D'],\n",
       " ['A', 'B', 'D', 'C'],\n",
       " ['A', 'C', 'B', 'D'],\n",
       " ['A', 'C', 'D', 'B'],\n",
       " ['A', 'D', 'B', 'C'],\n",
       " ['A', 'D', 'C', 'B'],\n",
       " ['B', 'A', 'C', 'D'],\n",
       " ['B', 'A', 'D', 'C'],\n",
       " ['B', 'C', 'A', 'D'],\n",
       " ['B', 'C', 'D', 'A'],\n",
       " ['B', 'D', 'A', 'C'],\n",
       " ['B', 'D', 'C', 'A'],\n",
       " ['C', 'A', 'B', 'D'],\n",
       " ['C', 'A', 'D', 'B'],\n",
       " ['C', 'B', 'A', 'D'],\n",
       " ['C', 'B', 'D', 'A'],\n",
       " ['C', 'D', 'A', 'B'],\n",
       " ['C', 'D', 'B', 'A'],\n",
       " ['D', 'A', 'B', 'C'],\n",
       " ['D', 'A', 'C', 'B'],\n",
       " ['D', 'B', 'A', 'C'],\n",
       " ['D', 'B', 'C', 'A'],\n",
       " ['D', 'C', 'A', 'B'],\n",
       " ['D', 'C', 'B', 'A']]"
      ]
     },
     "execution_count": 48,
     "metadata": {},
     "output_type": "execute_result"
    }
   ],
   "source": [
    "# 가장 직관적인 permutation 구현 - 재귀\n",
    "def perm(lst, n):\n",
    "    ret = []\n",
    "    if n > len(lst):\n",
    "        return ret\n",
    "    \n",
    "    if n == 1:\n",
    "        for i in lst:\n",
    "            ret.append([i])\n",
    "            \n",
    "    elif n > 1:\n",
    "        for i in range(len(lst)):\n",
    "            temp = [i for i in lst]\n",
    "            temp.remove(lst[i])\n",
    "            for p in perm(temp, n-1):\n",
    "                ret.append([lst[i]] + p)\n",
    "                \n",
    "    return ret\n",
    "\n",
    "perm('ABCD',4)\n",
    "        "
   ]
  },
  {
   "cell_type": "code",
   "execution_count": 60,
   "id": "465782d2",
   "metadata": {
    "scrolled": true
   },
   "outputs": [
    {
     "data": {
      "text/plain": [
       "[[1, 2], [1, 3], [2, 1], [2, 3], [3, 1], [3, 2]]"
      ]
     },
     "execution_count": 60,
     "metadata": {},
     "output_type": "execute_result"
    }
   ],
   "source": [
    "# permutation\n",
    "def perm(lst, n):\n",
    "    ret = []\n",
    "    if len(lst) < n:  # 무한루프 방지장치?\n",
    "        return ret\n",
    "    \n",
    "    elif n == 1:   # 맨 마지막에 도달했을때 return값 설정\n",
    "        for i in lst:\n",
    "            ret.append([i])         \n",
    "        \n",
    "        \n",
    "    elif n > 1:\n",
    "        for i in range(len(lst)):\n",
    "            temp = [j for j in lst]\n",
    "            temp.remove(lst[i])\n",
    "            for p in perm(temp, n-1):\n",
    "                ret.append([lst[i]] + p)\n",
    "                \n",
    "    return ret\n",
    "\n",
    "\n",
    "perm([1,2,3], 2)\n",
    "            \n",
    "        "
   ]
  },
  {
   "cell_type": "code",
   "execution_count": 58,
   "id": "36665a97",
   "metadata": {},
   "outputs": [
    {
     "name": "stdout",
     "output_type": "stream",
     "text": [
      "(1,)\n",
      "(2,)\n",
      "(3,)\n"
     ]
    }
   ],
   "source": [
    "# packages itertools\n",
    "from itertools import permutations, combinations\n",
    "for x in permutations([1,2,3],1):\n",
    "    print(x)"
   ]
  },
  {
   "cell_type": "code",
   "execution_count": null,
   "id": "35436a04",
   "metadata": {},
   "outputs": [],
   "source": [
    "\n",
    "\n",
    "\n",
    "\n",
    "\n",
    "\n",
    "\n"
   ]
  },
  {
   "cell_type": "code",
   "execution_count": 66,
   "id": "2e0df6d5",
   "metadata": {},
   "outputs": [
    {
     "data": {
      "text/plain": [
       "[2, 3]"
      ]
     },
     "execution_count": 66,
     "metadata": {},
     "output_type": "execute_result"
    }
   ],
   "source": [
    "temp = [1,2,3]\n",
    "temp.remove(1)\n",
    "temp"
   ]
  },
  {
   "cell_type": "code",
   "execution_count": 72,
   "id": "cccd8a64",
   "metadata": {},
   "outputs": [
    {
     "data": {
      "text/plain": [
       "[[1, 2, 3, 4],\n",
       " [1, 2, 3, 5],\n",
       " [1, 2, 3, 7],\n",
       " [1, 2, 4, 5],\n",
       " [1, 2, 4, 7],\n",
       " [1, 2, 5, 7],\n",
       " [1, 3, 4, 5],\n",
       " [1, 3, 4, 7],\n",
       " [1, 3, 5, 7],\n",
       " [1, 4, 5, 7],\n",
       " [2, 3, 4, 5],\n",
       " [2, 3, 4, 7],\n",
       " [2, 3, 5, 7],\n",
       " [2, 4, 5, 7],\n",
       " [3, 4, 5, 7]]"
      ]
     },
     "execution_count": 72,
     "metadata": {},
     "output_type": "execute_result"
    }
   ],
   "source": [
    "# permutation using recursion\n",
    "def perm(lst, n):\n",
    "    lst = sorted(lst)\n",
    "    ret = []\n",
    "    \n",
    "    if len(lst) < n:\n",
    "        return ret\n",
    "    \n",
    "    elif n == 1:\n",
    "        for i in lst:\n",
    "            ret.append([i])\n",
    "            \n",
    "    else:\n",
    "        temp = [j for j in lst]\n",
    "        for k in range(len(lst)):\n",
    "#             temp = [j for j in lst]\n",
    "            temp.remove(lst[k])\n",
    "            for p in perm(temp, n-1):\n",
    "                ret.append([lst[k]] + p)\n",
    "            \n",
    "        \n",
    "                \n",
    "    return ret\n",
    "\n",
    "perm([3,1,5,4,2,7],4)\n",
    "                \n",
    "        "
   ]
  },
  {
   "cell_type": "markdown",
   "id": "bd6e1bbb",
   "metadata": {},
   "source": [
    "combination 은 temp 생성줄을 for 구문 바깥으로 빼 주면 된다.  \n",
    "for loop를 한번 돌 때마다 앞쪽 원소를 지워주어 중복 생성을 방지해주기 때문이다."
   ]
  },
  {
   "cell_type": "code",
   "execution_count": null,
   "id": "5aae3521",
   "metadata": {},
   "outputs": [],
   "source": []
  },
  {
   "cell_type": "code",
   "execution_count": null,
   "id": "b0413b6b",
   "metadata": {},
   "outputs": [],
   "source": []
  },
  {
   "cell_type": "code",
   "execution_count": null,
   "id": "a9334750",
   "metadata": {},
   "outputs": [],
   "source": []
  },
  {
   "cell_type": "code",
   "execution_count": null,
   "id": "aaa407d9",
   "metadata": {},
   "outputs": [],
   "source": []
  }
 ],
 "metadata": {
  "kernelspec": {
   "display_name": "DA",
   "language": "python",
   "name": "da"
  },
  "language_info": {
   "codemirror_mode": {
    "name": "ipython",
    "version": 3
   },
   "file_extension": ".py",
   "mimetype": "text/x-python",
   "name": "python",
   "nbconvert_exporter": "python",
   "pygments_lexer": "ipython3",
   "version": "3.8.12"
  }
 },
 "nbformat": 4,
 "nbformat_minor": 5
}
