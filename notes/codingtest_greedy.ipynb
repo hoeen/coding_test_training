{
 "cells": [
  {
   "cell_type": "markdown",
   "metadata": {},
   "source": [
    "## Greedy 1. 큰 수의 법칙"
   ]
  },
  {
   "cell_type": "code",
   "execution_count": 38,
   "metadata": {},
   "outputs": [
    {
     "ename": "SyntaxError",
     "evalue": "invalid syntax (<ipython-input-38-a1bb6b6a5eda>, line 34)",
     "output_type": "error",
     "traceback": [
      "\u001b[0;36m  File \u001b[0;32m\"<ipython-input-38-a1bb6b6a5eda>\"\u001b[0;36m, line \u001b[0;32m34\u001b[0m\n\u001b[0;31m    if k <= m - count\u001b[0m\n\u001b[0m                     ^\u001b[0m\n\u001b[0;31mSyntaxError\u001b[0m\u001b[0;31m:\u001b[0m invalid syntax\n"
     ]
    }
   ],
   "source": [
    "# 첫 풀이\n",
    "\n",
    "%%time\n",
    "n = 5 # 배열수\n",
    "m = 8 # 덧셈 수\n",
    "k = 3 # 연속덧셈 수,  k <= m\n",
    "\n",
    "nums = [2,4,5,4,6]\n",
    "nums2 = [2,4,5,4,6]\n",
    "\n",
    "print(max(nums)*k)\n",
    "nums2.remove(6)\n",
    "print(max(nums2)*k)\n",
    "\n",
    "\n",
    "# 큰숫자 k번 더한다\n",
    "# 큰숫자 빼고 작은거 1개 더한다\n",
    "# 큰숫자 k번 더한다\n",
    "# 큰숫자 빼고 작은거 1개 더한다\n",
    "# m 개 만족하면 종료.\n",
    "\n",
    "nums.sort(reverse=True)\n",
    "print(nums)\n",
    "\n",
    "count = 0\n",
    "total = 0\n",
    "while k <= m - count:\n",
    "    total += nums[0]*k\n",
    "    count+=k\n",
    "\n",
    "    \n",
    "    \n",
    "    # k 충분한경우\n",
    "    if k <= m - count\n",
    "        # 다음수가 작을경우\n",
    "        if nums[1] < nums[0]:\n",
    "            total += nums[1]\n",
    "            count+=1\n",
    "\n",
    "\n",
    "        # 다음수가 같은수일경우\n",
    "        else:\n",
    "            total += nums[1]*k\n",
    "            count+=k\n",
    "    \n",
    "        \n",
    "    \n",
    "     \n",
    "    \n",
    "print(total, count)"
   ]
  },
  {
   "cell_type": "markdown",
   "metadata": {},
   "source": [
    "내 풀이의 문제점:  \n",
    "논리검증의 스텝을 k번 더하냐, 1번 더하냐, 이렇게 묶어서 하려고 해서 너무 복잡해졌다.  \n",
    "여러가지 경우로 나누어서 더해야 하는 경우에는 그냥 덧셈 하나하나를 for로 잡아서 경우를 따지는 게 더 낫다.   \n",
    "단순하고 무식한 접근이 greedy 인 것 같다."
   ]
  },
  {
   "cell_type": "code",
   "execution_count": 16,
   "metadata": {},
   "outputs": [],
   "source": [
    "# 답\n",
    "def greedy1():\n",
    "    # N, M, K를 공백으로 구분하여 입력받기\n",
    "    n, m, k = map(int, input().split())\n",
    "\n",
    "    # N개의 수를 공백으로 구분하여 입력받기\n",
    "    data = list(map(int, input().split()))\n",
    "\n",
    "    data.sort() # 입력받은 수 정렬하기\n",
    "    first = data[n - 1] # 가장 큰 수\n",
    "    second = data[n - 2] # 두번째로 큰 수\n",
    "\n",
    "    result = 0\n",
    "\n",
    "    while True:\n",
    "        for i in range(k):  # 가장 큰 수를 K번 더하기\n",
    "            if m == 0 :   # m이 0 이라면 반복문 탈출\n",
    "                break\n",
    "            result += first\n",
    "            m -= 1 # 더할 때마다 m에서 1씩 빼기\n",
    "        if m == 0 :   # m이 0 이라면 반복문 탈출\n",
    "            break\n",
    "\n",
    "        result += second  # 두 번째로 큰 수를 한 번 더하기\n",
    "        m -= 1 # 더할 때마다 m에서 1씩 빼기\n",
    "\n",
    "    print(result)\n",
    "\n",
    "\n"
   ]
  },
  {
   "cell_type": "code",
   "execution_count": 20,
   "metadata": {},
   "outputs": [
    {
     "name": "stdout",
     "output_type": "stream",
     "text": [
      "5 10 3\n",
      "2 4 5 7 1\n",
      "66\n"
     ]
    }
   ],
   "source": []
  },
  {
   "cell_type": "code",
   "execution_count": 12,
   "metadata": {},
   "outputs": [
    {
     "data": {
      "text/plain": [
       "6.5"
      ]
     },
     "execution_count": 12,
     "metadata": {},
     "output_type": "execute_result"
    }
   ],
   "source": [
    "a, b, c = map(lambda x: x+1, [3.5, 4.5, 5.5])\n",
    "c"
   ]
  },
  {
   "cell_type": "code",
   "execution_count": 40,
   "metadata": {},
   "outputs": [
    {
     "name": "stdout",
     "output_type": "stream",
     "text": [
      "5 8 3 \n",
      "2 4 5 4 4\n"
     ]
    },
    {
     "name": "stderr",
     "output_type": "stream",
     "text": [
      "UsageError: Line magic function `%%time` not found.\n"
     ]
    }
   ],
   "source": [
    "# 복기하기!\n",
    "\n",
    "# n, m, k 공백 포함 입력받기\n",
    "n, m, k = list(map(int, input().split()))\n",
    "\n",
    "# 리스트 입력받기\n",
    "data = list(map(int, input().split()))\n",
    "\n",
    "# data 정렬\n",
    "data.sort()\n",
    "\n",
    "first = data[-1]\n",
    "second = data[-2]\n",
    "\n",
    "total = 0\n",
    "while True:\n",
    "    for i in range(k):  # data에서 1번째 큰값 k 번 더하기, 단 m 초과하면 종료한다.\n",
    "        if m == 0:\n",
    "            break\n",
    "        total += first\n",
    "        m -= 1    # count 변수를 굳이 넣는것보다, 기존 주어진 횟수에서 빼는 게 효율적.\n",
    "        \n",
    "    if m == 0:\n",
    "        break\n",
    "    \n",
    "    total += second   # data에서 2번째 큰값 1번 더하기, 단 m 초과하면 종료.\n",
    "    m -= 1\n",
    "    \n",
    "        \n",
    "print(total)\n",
    "    \n",
    "\n"
   ]
  },
  {
   "cell_type": "code",
   "execution_count": null,
   "metadata": {},
   "outputs": [],
   "source": []
  }
 ],
 "metadata": {
  "kernelspec": {
   "display_name": "Python 3",
   "language": "python",
   "name": "python3"
  },
  "language_info": {
   "codemirror_mode": {
    "name": "ipython",
    "version": 3
   },
   "file_extension": ".py",
   "mimetype": "text/x-python",
   "name": "python",
   "nbconvert_exporter": "python",
   "pygments_lexer": "ipython3",
   "version": "3.8.3"
  }
 },
 "nbformat": 4,
 "nbformat_minor": 4
}
