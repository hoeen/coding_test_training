{
 "cells": [
  {
   "cell_type": "markdown",
   "id": "e9b13d75",
   "metadata": {},
   "source": [
    "# 코딩테스트 유형 2 - 구현 (Implementation)\n",
    "\n",
    "## 구현 문제에 접근하는 방법\n",
    "- 고차원적인 사고력을 요구하는 문제는 나오지 않기 때문에 문법에 익숙하다면 오히려 쉽게 풀수 있음.\n",
    "- 구현 알고리즘의 대표적 예시 - 1. 상하좌우  2. 시각"
   ]
  },
  {
   "cell_type": "markdown",
   "id": "fcdebc9d",
   "metadata": {},
   "source": [
    "## 1. 상하좌우 문제"
   ]
  },
  {
   "cell_type": "code",
   "execution_count": null,
   "id": "07c4b01f",
   "metadata": {},
   "outputs": [],
   "source": [
    "# 1<N<100\n",
    "# 1<이동횟수<100\n",
    "# x, y 공백으로 구분하여 출력한다.\n",
    "\n",
    "'''\n",
    "r 은 x로 +1\n",
    "ㅣ 은 x -1\n",
    "u -> y + 1\n",
    "d -> y - 1\n",
    "\n",
    "그렇다면 개수제한이 존재한다.\n",
    "\n",
    "단순히 푼다면, 그때그때 좌표가 n,n만 넘어가지 않으면 된다.\n",
    "'''\n"
   ]
  },
  {
   "cell_type": "code",
   "execution_count": 12,
   "id": "58365192",
   "metadata": {},
   "outputs": [
    {
     "name": "stdout",
     "output_type": "stream",
     "text": [
      "5\n",
      "R R R U D D\n",
      "2 1\n",
      "3 1\n",
      "4 1\n",
      "4 1\n",
      "4 2\n",
      "4 3\n",
      "최종 좌표: 3  4\n"
     ]
    }
   ],
   "source": [
    "# n = 3\n",
    "# di = ['R','R','R','U','D','D','L','L','R','R','U','U','U','U','U','L','L','D']\n",
    "\n",
    "n = int(input())\n",
    "di = list(input().split())\n",
    "\n",
    "x = 1\n",
    "y = 1\n",
    "\n",
    "for arrow in di:\n",
    "    if arrow == 'R':\n",
    "        if x == n:\n",
    "            pass\n",
    "        else:\n",
    "            x += 1\n",
    "    if arrow == 'L':\n",
    "        if x == 1:\n",
    "            pass\n",
    "        else:\n",
    "            x -= 1\n",
    "    if arrow == 'U':\n",
    "        if y == 1:\n",
    "            pass\n",
    "        else:\n",
    "            y -= 1\n",
    "    if arrow == 'D':\n",
    "        if y == n:\n",
    "            pass\n",
    "        else:\n",
    "            y += 1\n",
    "    print(y, x)\n",
    "print('최종 좌표:', y,'',x)"
   ]
  },
  {
   "cell_type": "code",
   "execution_count": 15,
   "id": "c1a0067e",
   "metadata": {},
   "outputs": [
    {
     "name": "stdout",
     "output_type": "stream",
     "text": [
      "5\n",
      "R R R U D D\n",
      "3  4\n"
     ]
    }
   ],
   "source": [
    "# 답안\n",
    "\n",
    "# N을 입력받기\n",
    "n = int(input())\n",
    "x, y = 1, 1\n",
    "plans = input().split()\n",
    "\n",
    "# L, R, U, D에 따른 이동 방향\n",
    "dx = [0, 0, -1, 1]\n",
    "dy = [-1, 1, 0, 0]\n",
    "move_types = ['L','R','U','D']\n",
    "\n",
    "\n",
    "# 이동 방향을 하나씩 확인\n",
    "for plan in plans:\n",
    "    # 이동 후 좌표 구하기\n",
    "    for i in range(len(move_types)):\n",
    "        if plan == move_types[i]:  # move_types중 어느 것인지 고르기\n",
    "            nx = x + dx[i]\n",
    "            ny = y + dy[i]\n",
    "    # 공간을 벗어나는 경우 무시\n",
    "    if nx < 1 or ny < 1 or nx > n or ny > n:\n",
    "        continue\n",
    "    \n",
    "    # 이동 수행\n",
    "    x, y = nx, ny\n",
    "\n",
    "\n",
    "print(x, '', y)\n",
    "\n",
    "\n",
    "\n",
    "\n"
   ]
  },
  {
   "cell_type": "markdown",
   "id": "3d6311c7",
   "metadata": {},
   "source": [
    "## 2. 시각\n",
    "정수 N이 입력되면 00시 00분 00초부터 N시 59분 59초까지의 모든 시각 중에서 3이 하나라도 포함되는  \n",
    "모든 경우의 수를 구하는 프로그램을 작성하시오."
   ]
  },
  {
   "cell_type": "code",
   "execution_count": null,
   "id": "185757ed",
   "metadata": {},
   "outputs": [],
   "source": [
    "# greedy 방법\n",
    "ab cd ef\n",
    "\n",
    "3이 나오는 경우:\n",
    "f -> 3\n",
    "\n",
    "\n",
    "만약 5시가 주어지면:\n",
    "    1시간 동안 3이 나오는것 * 5\n",
    "그럼 1시간 동안 3이 나오는건 어떻게 세나?\n",
    "\n"
   ]
  },
  {
   "cell_type": "code",
   "execution_count": 38,
   "id": "2c054534",
   "metadata": {
    "scrolled": false
   },
   "outputs": [
    {
     "name": "stdout",
     "output_type": "stream",
     "text": [
      "11475\n",
      "0.030469179153442383 sec\n"
     ]
    }
   ],
   "source": [
    "# 아주 단순하게, 매번 3을 탐색해서 나오면 더한다.\n",
    "\n",
    "# 시계 만들기\n",
    "import time\n",
    "\n",
    "t0 = time.time()\n",
    "n = 5\n",
    "h, m, s = 0, 0, 0\n",
    "count = 0\n",
    "for i in range(3600*(n+1)-1): # 1초씩\n",
    "    s += 1\n",
    "    if s == 60:\n",
    "        m += 1\n",
    "        s = 0\n",
    "    if m == 60:\n",
    "        h += 1\n",
    "        m = 0\n",
    "    \n",
    "    if (str(h)+str(m)+str(s)).find('3') != -1:\n",
    "        count+=1\n",
    "    \n",
    "    \n",
    "print(count)\n",
    "print((time.time()-t0),'sec')\n",
    "\n",
    "\n"
   ]
  },
  {
   "cell_type": "markdown",
   "id": "92edb16b",
   "metadata": {},
   "source": [
    "# 실전 문제 : 왕실의 나이트\n",
    "8x8 평면 위에서 나이트의 위치가 주어졌을 때 나이트가 이동할 수 있는 경우의 수를 출력하는 프로그램을 작성하시오."
   ]
  },
  {
   "cell_type": "code",
   "execution_count": 39,
   "id": "49205797",
   "metadata": {},
   "outputs": [
    {
     "ename": "SyntaxError",
     "evalue": "invalid syntax (1974715341.py, line 1)",
     "output_type": "error",
     "traceback": [
      "\u001b[0;36m  File \u001b[0;32m\"/var/folders/x2/cknq9hv17x34r_v1qbmvpgdh0000gn/T/ipykernel_42394/1974715341.py\"\u001b[0;36m, line \u001b[0;32m1\u001b[0m\n\u001b[0;31m    어떤 위치 d4:\u001b[0m\n\u001b[0m       ^\u001b[0m\n\u001b[0;31mSyntaxError\u001b[0m\u001b[0;31m:\u001b[0m invalid syntax\n"
     ]
    }
   ],
   "source": [
    "어떤 위치 d4:\n",
    "    총 8가지 경우.\n",
    "    위 두칸:\n",
    "        오른쪽 1칸\n",
    "        왼쪽 1칸\n",
    "    아래 두칸:\n",
    "        오른쪽 왼쪽 각 1칸\n",
    "    오른쪽 두칸:\n",
    "        위 1칸 / 아래 1칸\n",
    "    왼쪽 두칸:\n",
    "        위 1칸 / 아래 1칸\n",
    "        \n",
    "    위치에서 해당 방향에 맞게 좌표를 더하면서 좌표가 넘어가면 count 하지 않는다."
   ]
  },
  {
   "cell_type": "code",
   "execution_count": 65,
   "id": "9c8fb26c",
   "metadata": {},
   "outputs": [
    {
     "name": "stdout",
     "output_type": "stream",
     "text": [
      "6\n"
     ]
    }
   ],
   "source": [
    "# 내 풀이\n",
    "\n",
    "l0 = 'c2'\n",
    "\n",
    "hor=['a','b','c','d','e','f','g','h']\n",
    "ver=[1,2,3,4,5,6,7,8]\n",
    "\n",
    "\n",
    "# x, y 좌표 설정\n",
    "x, y = list(l0)\n",
    "y = int(y)\n",
    "\n",
    "# 방향 탐색. 최대 8가지\n",
    "\n",
    "\n",
    "# 그냥 각 방향으로 가능한지만 탐색해서 count 한다.\n",
    "count = 0\n",
    "for i in range(8):\n",
    "    if hor[i] == x:\n",
    "        ip = i + 2\n",
    "        im = i - 2\n",
    "        if ip < 8:\n",
    "            # 위1 / 아래 1\n",
    "            for j in range(8):\n",
    "                if ver[j] == y:\n",
    "                    jp = j + 1\n",
    "                    jn = j - 1\n",
    "                    if jp < 8:\n",
    "                        count += 1\n",
    "                    if jn >= 0:\n",
    "                        count += 1\n",
    "        if im >= 0:\n",
    "            # 위1 / 아래 1\n",
    "            for j in range(8):\n",
    "                if ver[j] == y:\n",
    "                    jp = j + 1\n",
    "                    jn = j - 1\n",
    "                    if jp < 8:\n",
    "                        count += 1\n",
    "                    if jn >= 0:\n",
    "                        count += 1\n",
    "        i1p = i + 1\n",
    "        i1m = i - 1\n",
    "        if i1p < 8:\n",
    "            for k in range(8):\n",
    "                if ver[k] == y:\n",
    "                    kp = k + 2\n",
    "                    kn = k - 2\n",
    "                    if kp < 8:\n",
    "                        count += 1\n",
    "                    if kn >= 0:\n",
    "                        count += 1\n",
    "        if i1m >= 0:\n",
    "            for k in range(8):\n",
    "                if ver[k] == y:\n",
    "                    kp = k + 2\n",
    "                    kn = k - 2\n",
    "                    if kp < 8:\n",
    "                        count += 1\n",
    "                    if kn >= 0:\n",
    "                        count += 1\n",
    "    \n",
    "print(count)"
   ]
  },
  {
   "cell_type": "code",
   "execution_count": 79,
   "id": "a711d134",
   "metadata": {},
   "outputs": [
    {
     "name": "stdout",
     "output_type": "stream",
     "text": [
      "c2\n",
      "6\n"
     ]
    }
   ],
   "source": [
    "# 해설 풀이\n",
    "\n",
    "# 이동할 수 있는 방향을 벡터로 해서 리스트를 만들고 각 경우에서 가능한지 본다.\n",
    "# 이 경우에는 복잡하게 if 문을 구성할 필요가 없다.\n",
    "\n",
    "input_data = input()\n",
    "# row, column 을 인풋에서 숫자로 변환함\n",
    "row = int(input_data[1])\n",
    "column = int(ord(input_data[0])) - int(ord('a')) + 1\n",
    "\n",
    "# 나이트가 이동할 수 있는 8가지 방향 정의\n",
    "steps = [\n",
    "    (-2, -1), (-1, -2), (1, -2), (2, -1),\n",
    "    (2, 1), (1, 2), (-1, 2), (-2, 1)\n",
    "]\n",
    "\n",
    "# 8가지 방향에 대하여 각 위치로 이동이 가능한지 확인\n",
    "result = 0\n",
    "for step in steps:\n",
    "    # 이동하고자 하는 위치 확인\n",
    "    next_row = row + step[0]\n",
    "    next_column = column + step[1]\n",
    "    # 해당 위치로 이동이 가능하다면 카운트 증가\n",
    "    if next_row >= 1 and next_row <= 8 and next_column >= 1 and next_column <= 8:\n",
    "        result += 1\n",
    "        \n",
    "\n",
    "    \n",
    "    \n",
    "print(result)\n",
    "\n",
    "\n",
    "\n",
    "\n",
    "\n"
   ]
  },
  {
   "cell_type": "markdown",
   "id": "49b33bb4",
   "metadata": {},
   "source": [
    "**ord()**  \n",
    "문자의 유니코드 상의 순서를 숫자로 반환한다. 알파벳 순서를 차례대로 호출하기에 유용하다\n",
    "\n",
    "**해설 설명**  \n",
    "위의 해설에서는 8가지 방향을 if로 복잡한 경우의 수로 나누지 않고 단지 방향만 튜플로 (x,y) 의 형태로 나열하여 각 경우에 대해 이동이 가능한지 확인하고 그럴 경우 count를 추가시켰다. 효율적으로 코드를 완성하였다."
   ]
  },
  {
   "cell_type": "markdown",
   "id": "739deb74",
   "metadata": {},
   "source": [
    "# 실전 문제 : 게임 개발"
   ]
  },
  {
   "cell_type": "code",
   "execution_count": 19,
   "id": "b16621b4",
   "metadata": {},
   "outputs": [
    {
     "name": "stdout",
     "output_type": "stream",
     "text": [
      "1 0 0 1 5\n"
     ]
    },
    {
     "data": {
      "text/plain": [
       "[[1, 0, 0, 1, 5]]"
      ]
     },
     "execution_count": 19,
     "metadata": {},
     "output_type": "execute_result"
    }
   ],
   "source": [
    "game_map = []\n",
    "game_map.append([int(num) for num in input().split(' ')])\n",
    "game_map"
   ]
  },
  {
   "cell_type": "code",
   "execution_count": 61,
   "id": "cbaac658",
   "metadata": {},
   "outputs": [
    {
     "name": "stdout",
     "output_type": "stream",
     "text": [
      "4 4\n",
      "1 1 0\n",
      "1 1 1 1\n",
      "1 0 0 1\n",
      "1 1 0 1\n",
      "1 1 1 1\n",
      "big loop\n",
      "본곳: 1 0\n",
      "바다이거나 이미가본곳\n",
      "현재 dir: 2\n",
      "본곳: 2 1\n",
      "바다이거나 이미가본곳\n",
      "현재 dir: 1\n",
      "본곳: (1, 2)\n",
      "육지!\n",
      "간곳: (1, 2)\n",
      "본곳: 1 3\n",
      "바다이거나 이미가본곳\n",
      "현재 dir: 0\n",
      "본곳: 0 2\n",
      "바다이거나 이미가본곳\n",
      "현재 dir: 3\n",
      "본곳: 1 1\n",
      "바다이거나 이미가본곳\n",
      "현재 dir: 2\n",
      "본곳: (2, 2)\n",
      "육지!\n",
      "간곳: (2, 2)\n",
      "본곳: 3 2\n",
      "바다이거나 이미가본곳\n",
      "현재 dir: 1\n",
      "본곳: 2 3\n",
      "바다이거나 이미가본곳\n",
      "현재 dir: 0\n",
      "본곳: 1 2\n",
      "바다이거나 이미가본곳\n",
      "현재 dir: 3\n",
      "본곳: 2 1\n",
      "바다이거나 이미가본곳\n",
      "현재 dir: 2\n",
      "back!\n",
      "back 간곳: 1 2\n",
      "big loop\n",
      "본곳: 2 2\n",
      "바다이거나 이미가본곳\n",
      "현재 dir: 1\n",
      "본곳: 1 3\n",
      "바다이거나 이미가본곳\n",
      "현재 dir: 0\n",
      "본곳: 0 2\n",
      "바다이거나 이미가본곳\n",
      "현재 dir: 3\n",
      "본곳: 1 1\n",
      "바다이거나 이미가본곳\n",
      "현재 dir: 2\n",
      "back!\n",
      "back 간곳: 0 2\n",
      "3\n"
     ]
    }
   ],
   "source": [
    "# brute force\n",
    "# x, y, direction = (1,1,0)   direction = 0, 1, 2, 3 (clockwise)\n",
    "\n",
    "### 1. 입력조건 및 array 구현\n",
    "N, M = (int(num) for num in input().split(' ')) # map 크기\n",
    "\n",
    "\n",
    "# game 캐릭터 초기 위치 및 초기 방향\n",
    "x, y, init = (int(num) for num in input().split(' '))\n",
    "\n",
    "# game map 입력 구현\n",
    "game_map = []\n",
    "for row in range(N):\n",
    "    arr = [int(num) for num in input().split(' ')]\n",
    "    game_map.append(arr)\n",
    "    \n",
    "    \n",
    "    \n",
    "### 2. 움직임 구현\n",
    "\n",
    "# 방향대로 탐색 함수\n",
    "def see(x, y, direction):\n",
    "    if direction == 0:\n",
    "        return x-1, y\n",
    "    elif direction == 1:\n",
    "        return x, y+1\n",
    "    elif direction == 2:\n",
    "        return x+1, y\n",
    "    else:\n",
    "        return x, y-1\n",
    "\n",
    "# 뒤로 1칸 가는 함수\n",
    "def back(x, y, direction):\n",
    "    if direction == 0:\n",
    "        return x+1, y\n",
    "    elif direction == 1:\n",
    "        return x, y-1\n",
    "    elif direction == 2:\n",
    "        return x-1, y\n",
    "    else:\n",
    "        return x, y+1\n",
    "\n",
    "## 움직임 1 - 처음 위치를 간곳 처리 + 반시계 방향을 보기\n",
    "game_map[x][y] = 2\n",
    "dir_arr = [0,1,2,3]\n",
    "go_dir = dir_arr[init-1]\n",
    "    \n",
    "\n",
    "\n",
    "\n",
    "\n",
    "## 움직임 2\n",
    "rotation_count = 0 \n",
    "\n",
    "x_now, y_now = (x, y)\n",
    "while game_map[x_now][y_now] != 1:\n",
    "    print('big loop')\n",
    "    \n",
    "    # 갈수있는곳 탐색\n",
    "    x_see, y_see = see(x_now, y_now, go_dir)\n",
    "    \n",
    "    while rotation_count < 4:\n",
    "        # 안가본 육지일 때\n",
    "        if game_map[x_see][y_see] == 0:\n",
    "            print('본곳:', (x_see, y_see))\n",
    "            print('육지!')\n",
    "            x_now, y_now = (x_see, y_see) # 해당 방향으로 전진\n",
    "            print('간곳:',(x_now, y_now))\n",
    "            game_map[x_now][y_now] = 2 # 가본곳으로 처리\n",
    "            x_see, y_see = see(x_now, y_now, go_dir) # 가던 방향대로 탐색\n",
    "            rotation_count = 0 # 회전수 리셋\n",
    "            \n",
    "\n",
    "        # 바다이거나 가본곳일 때\n",
    "        else:\n",
    "            print('본곳:', x_see, y_see)\n",
    "            print('바다이거나 이미가본곳')\n",
    "            go_dir = dir_arr[go_dir-1] # 왼쪽 회전 수행\n",
    "            print('현재 dir:', go_dir)\n",
    "            rotation_count += 1\n",
    "            x_see, y_see = see(x_now, y_now, go_dir) # 회전한 방향으로 탐색\n",
    "\n",
    "\n",
    "    ## 움직임 3 - 회전 4번 했는데도 모든 칸이 0이 아닌 경우. -> back 해서 다시 회전 탐색 수행\n",
    "    print('back!')\n",
    "    x_now, y_now = back(x_now, y_now, go_dir)\n",
    "    rotation_count = 0\n",
    "    print('back 간곳:', x_now, y_now)\n",
    "    \n",
    "\n",
    "\n",
    "# 최종적으로 방문한 칸의 수 출력 : 2만 찾아서 출력하기.\n",
    "ans = 0\n",
    "for row in game_map:\n",
    "    ans += row.count(2)\n",
    "    \n",
    "print(ans)"
   ]
  },
  {
   "cell_type": "code",
   "execution_count": null,
   "id": "beb27015",
   "metadata": {},
   "outputs": [],
   "source": [
    "1 1 0\n",
    "1 1 1 1\n",
    "1 0 0 1\n",
    "1 1 0 1\n",
    "1 1 1 1"
   ]
  },
  {
   "cell_type": "code",
   "execution_count": 57,
   "id": "e5ff191d",
   "metadata": {},
   "outputs": [
    {
     "data": {
      "text/plain": [
       "[[1, 1, 1, 1], [1, 2, 2, 1], [1, 1, 2, 1], [1, 1, 1, 1]]"
      ]
     },
     "execution_count": 57,
     "metadata": {},
     "output_type": "execute_result"
    }
   ],
   "source": [
    "game_map"
   ]
  },
  {
   "cell_type": "code",
   "execution_count": 39,
   "id": "72f4529e",
   "metadata": {},
   "outputs": [
    {
     "ename": "TypeError",
     "evalue": "list indices must be integers or slices, not NoneType",
     "output_type": "error",
     "traceback": [
      "\u001b[0;31m---------------------------------------------------------------------------\u001b[0m",
      "\u001b[0;31mTypeError\u001b[0m                                 Traceback (most recent call last)",
      "Input \u001b[0;32mIn [39]\u001b[0m, in \u001b[0;36m<module>\u001b[0;34m\u001b[0m\n\u001b[1;32m      1\u001b[0m x_now, y_now \u001b[38;5;241m=\u001b[39m (\u001b[38;5;28;01mNone\u001b[39;00m, \u001b[38;5;28;01mNone\u001b[39;00m)\n\u001b[0;32m----> 2\u001b[0m \u001b[43mgame_map\u001b[49m\u001b[43m[\u001b[49m\u001b[43mx_now\u001b[49m\u001b[43m]\u001b[49m[y_now]\n",
      "\u001b[0;31mTypeError\u001b[0m: list indices must be integers or slices, not NoneType"
     ]
    }
   ],
   "source": [
    "x_now, y_now = (None, None)\n",
    "game_map[x_now][y_now]"
   ]
  },
  {
   "cell_type": "code",
   "execution_count": 49,
   "id": "058c5ea2",
   "metadata": {},
   "outputs": [
    {
     "data": {
      "text/plain": [
       "[[1, 0, 1, 1], [0, 0, 0, 1], [1, 1, 0, 0]]"
      ]
     },
     "execution_count": 49,
     "metadata": {},
     "output_type": "execute_result"
    }
   ],
   "source": [
    "game_map"
   ]
  },
  {
   "cell_type": "code",
   "execution_count": 50,
   "id": "e4ea8472",
   "metadata": {},
   "outputs": [
    {
     "name": "stdout",
     "output_type": "stream",
     "text": [
      "6\n"
     ]
    }
   ],
   "source": [
    "ans = 0\n",
    "for row in game_map:\n",
    "    ans += row.count(1)\n",
    "    \n",
    "print(ans)"
   ]
  },
  {
   "cell_type": "code",
   "execution_count": 35,
   "id": "a97a3c9b",
   "metadata": {},
   "outputs": [
    {
     "data": {
      "text/plain": [
       "0"
      ]
     },
     "execution_count": 35,
     "metadata": {},
     "output_type": "execute_result"
    }
   ],
   "source": [
    "game_map[x-1][y]"
   ]
  },
  {
   "cell_type": "code",
   "execution_count": 29,
   "id": "9c2375c0",
   "metadata": {},
   "outputs": [
    {
     "data": {
      "text/plain": [
       "3"
      ]
     },
     "execution_count": 29,
     "metadata": {},
     "output_type": "execute_result"
    }
   ],
   "source": [
    "dir_arr = [0,1,2,3]\n",
    "dir_arr[init-1]"
   ]
  },
  {
   "cell_type": "code",
   "execution_count": null,
   "id": "cbb3f17e",
   "metadata": {},
   "outputs": [],
   "source": [
    "\n",
    "\n",
    "\n",
    "\n",
    "\n",
    "\n",
    "\n",
    "\n",
    "\n",
    "\n",
    "\n",
    "\n",
    "\n",
    "\n",
    "\n"
   ]
  }
 ],
 "metadata": {
  "kernelspec": {
   "display_name": "Python 3 (ipykernel)",
   "language": "python",
   "name": "python3"
  },
  "language_info": {
   "codemirror_mode": {
    "name": "ipython",
    "version": 3
   },
   "file_extension": ".py",
   "mimetype": "text/x-python",
   "name": "python",
   "nbconvert_exporter": "python",
   "pygments_lexer": "ipython3",
   "version": "3.8.12"
  }
 },
 "nbformat": 4,
 "nbformat_minor": 5
}
