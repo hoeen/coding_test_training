{
 "cells": [
  {
   "cell_type": "markdown",
   "id": "79ab8044",
   "metadata": {},
   "source": [
    "# Dynamic Programming"
   ]
  },
  {
   "cell_type": "markdown",
   "id": "df79ba96",
   "metadata": {},
   "source": [
    "## 실전 문제 : 1로 만들기"
   ]
  },
  {
   "cell_type": "code",
   "execution_count": null,
   "id": "ca7172b5",
   "metadata": {},
   "outputs": [],
   "source": [
    "# 탑다운\n",
    "# 메모이제이션\n",
    "# 재귀를 이용하되, 연산값이 있는 경우는 연산하지 않고 불러와서 쓴다.\n",
    "\n",
    "\n",
    "값 찾기\n",
    "없으면 나누기\n",
    "나눈 결과를 리스트에 추가\n",
    "최솟값 반환. 어떻게?\n",
    "\n",
    "# 보텀업?\n",
    "1부터 시작해서, 1더하고, 2 3 5 곱하는 식으로 계속 연산해서 저장한다.\n",
    "값이 나온대로 횟수를 저장해서, 그 횟수중 최솟값을 반환한다.\n",
    "\n",
    "\n",
    "    "
   ]
  },
  {
   "cell_type": "code",
   "execution_count": 35,
   "id": "28359cc7",
   "metadata": {},
   "outputs": [
    {
     "name": "stdout",
     "output_type": "stream",
     "text": [
      "8\n",
      "CPU times: user 38.1 ms, sys: 1.93 ms, total: 40.1 ms\n",
      "Wall time: 39.6 ms\n"
     ]
    }
   ],
   "source": [
    "%%time\n",
    "\n",
    "# 나의 해답\n",
    "n = 20000#int(input())\n",
    "tab = {}\n",
    "i = 1\n",
    "tab[i] = 0\n",
    "for i in range(1,n+1):\n",
    "    cal = [i*2, i*3, i*5, i+1]\n",
    "    for op in cal:\n",
    "        if op not in tab:\n",
    "            tab[op] = tab[i] + 1\n",
    "        else: # 존재하는 경우 : 수가 적게 나오면 대체하기.\n",
    "            if tab[i] + 1 < tab[op]:\n",
    "                tab[op] = tab[i] + 1\n",
    "    \n",
    "    \n",
    "    \n",
    "print(tab[n])"
   ]
  },
  {
   "cell_type": "code",
   "execution_count": 34,
   "id": "5624755a",
   "metadata": {},
   "outputs": [
    {
     "name": "stdout",
     "output_type": "stream",
     "text": [
      "8\n",
      "CPU times: user 79.4 ms, sys: 18.6 ms, total: 98 ms\n",
      "Wall time: 97.7 ms\n"
     ]
    }
   ],
   "source": [
    "%%time\n",
    "# 점화식을 적용하여 해답대로 풀기\n",
    "n = 20000\n",
    "\n",
    "d = [0] * n*1000\n",
    "\n",
    "for i in range(2, n+1):\n",
    "    d[i] = d[i-1] + 1\n",
    "    if i%2 == 0:\n",
    "        d[i] = min(d[i], d[i//2] + 1)\n",
    "    if i%3 == 0:\n",
    "        d[i] = min(d[i], d[i//3] + 1)\n",
    "    if i%5 == 0:\n",
    "        d[i] = min(d[i], d[i//5] + 1)\n",
    "        \n",
    "print(d[n])\n",
    "    "
   ]
  },
  {
   "cell_type": "markdown",
   "id": "1b4bbddf",
   "metadata": {},
   "source": [
    "DP는 매번 리스트 길이 지정해줘야 하는 리스트 방식의 tab보다는 딕셔너리 형태로 tab 지정이 더 직관적이고 빠른것 같다."
   ]
  },
  {
   "cell_type": "markdown",
   "id": "bd1233fe",
   "metadata": {},
   "source": [
    "## 실전 문제 : 개미 전사"
   ]
  },
  {
   "cell_type": "code",
   "execution_count": null,
   "id": "16c988ea",
   "metadata": {},
   "outputs": [],
   "source": [
    "# ~3:30\n",
    "    \n",
    "\n",
    "\n",
    "arr = [1, 8, 6, 7, 9, 32, 0, 1, 9, 3, 75]\n",
    "\n",
    "def func(n):\n",
    "    func(n-1) + max(arr)"
   ]
  },
  {
   "cell_type": "markdown",
   "id": "910fb179",
   "metadata": {},
   "source": [
    "식량의 최댓값..?\n",
    "1 8 6 7 9 32 0 1 9 3 75\n",
    "그러니까 두개가 붙으면 안된단거지.. \n",
    "인덱스 차이가 2 이상 이고,, 이렇게 해서 합 최대가 되는 경우 구하기.\n"
   ]
  },
  {
   "cell_type": "markdown",
   "id": "aac3d143",
   "metadata": {},
   "source": [
    "책 답안 : top-down / bottom-up 방식"
   ]
  },
  {
   "cell_type": "code",
   "execution_count": 48,
   "id": "545af159",
   "metadata": {},
   "outputs": [
    {
     "name": "stdout",
     "output_type": "stream",
     "text": [
      "131\n",
      "131\n"
     ]
    }
   ],
   "source": [
    "\n",
    "'''f(n) = max(f(n-1), f(n-2) + Kn)'''\n",
    "\n",
    "# top-down\n",
    "st = [1, 8, 6, 7, 9, 32, 0, 1, 9, 3, 75]\n",
    "# st = [1, 3, 1, 5]\n",
    "def func(n):\n",
    "    if n == 1:\n",
    "        return st[n-1]\n",
    "    if n == 2:\n",
    "        return max(st[1], st[0])\n",
    "    else:\n",
    "        return max(func(n-1), func(n-2) + st[n-1])   # 가장 직관적이나, 메모리 부족 생길수 있음. memoization을 통해 연산 절약 가능\n",
    "\n",
    "\n",
    "print(func(len(st)))\n",
    "\n",
    "# bottom-up\n",
    "arr = [0]*30000  # arr는 적당히 크게 적으면됨\n",
    "arr[1] = st[0]\n",
    "arr[2] = max(st[0], st[1])\n",
    "\n",
    "for n in range(3, len(st)+1):\n",
    "    arr[n] = max(arr[n-1], arr[n-2] + st[n-1])     # 점화식 n과 인덱스 위치 혼동하지 않게 잘 잡아야함\n",
    "    \n",
    "print(arr[len(st)])"
   ]
  },
  {
   "cell_type": "markdown",
   "id": "80a94321",
   "metadata": {},
   "source": [
    "둘다 연산속도는 비슷하다"
   ]
  },
  {
   "cell_type": "code",
   "execution_count": null,
   "id": "f36644b8",
   "metadata": {},
   "outputs": [],
   "source": []
  },
  {
   "cell_type": "code",
   "execution_count": null,
   "id": "6d6d8a02",
   "metadata": {},
   "outputs": [],
   "source": [
    "\n",
    "\n",
    "\n",
    "\n",
    "\n",
    "\n",
    "\n",
    "\n",
    "\n",
    "\n",
    "\n",
    "\n",
    "\n",
    "\n",
    "\n",
    "\n",
    "\n",
    "\n",
    "\n",
    "\n",
    "\n",
    "\n",
    "\n",
    "\n",
    "\n",
    "\n",
    "\n",
    "\n",
    "\n",
    "\n"
   ]
  }
 ],
 "metadata": {
  "kernelspec": {
   "display_name": "DA",
   "language": "python",
   "name": "da"
  },
  "language_info": {
   "codemirror_mode": {
    "name": "ipython",
    "version": 3
   },
   "file_extension": ".py",
   "mimetype": "text/x-python",
   "name": "python",
   "nbconvert_exporter": "python",
   "pygments_lexer": "ipython3",
   "version": "3.8.12"
  }
 },
 "nbformat": 4,
 "nbformat_minor": 5
}
