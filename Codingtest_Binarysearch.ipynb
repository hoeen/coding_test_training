{
 "cells": [
  {
   "cell_type": "markdown",
   "id": "7cf0a08e",
   "metadata": {},
   "source": [
    "# 이진 탐색"
   ]
  },
  {
   "cell_type": "code",
   "execution_count": 13,
   "id": "edb9dbe4",
   "metadata": {},
   "outputs": [
    {
     "name": "stdout",
     "output_type": "stream",
     "text": [
      "value in left.\n",
      "value in left.\n",
      "value in left.\n",
      "value in left.\n",
      "value on right.\n",
      "value in left.\n",
      "value in left.\n",
      "value in left.\n",
      "value on right.\n",
      "value in left.\n",
      "value on right.\n",
      "value on right.\n",
      "value in left.\n",
      "value in left.\n",
      "value in left.\n",
      "find!\n",
      "find: 3511\n",
      "3511\n"
     ]
    }
   ],
   "source": [
    "# 재귀를 이용한 구현\n",
    "array = [i for i in range(1,103501)]\n",
    "\n",
    "def binary_search(array, value, start, end):\n",
    "    if start > end:\n",
    "        return None\n",
    "    else:\n",
    "        # 중간점 찾기\n",
    "        mid = (start + end) // 2\n",
    "        \n",
    "        # 탐색해서 있으면 반환\n",
    "        if array[mid] == value:\n",
    "            print('find!')\n",
    "            print('find:', mid)\n",
    "            return mid\n",
    "            \n",
    "        # 중간값보다 작으면 왼쪽 탐색\n",
    "        elif value < array[mid]:\n",
    "            print('value in left.')\n",
    "            return binary_search(array, value, start, mid-1)\n",
    "            \n",
    "        # 중간값보다 크면 오른쪽 탐색\n",
    "        else:\n",
    "            print('value on right.')\n",
    "            return binary_search(array, value, mid+1, end)\n",
    "            \n",
    "print(binary_search(array, 3512, 0, len(array)-1))\n",
    "\n",
    "        \n",
    "        \n",
    "    \n",
    "    "
   ]
  },
  {
   "cell_type": "code",
   "execution_count": 14,
   "id": "2fb6a965",
   "metadata": {},
   "outputs": [
    {
     "name": "stdout",
     "output_type": "stream",
     "text": [
      "[1, 2, 3, 4, 5, 6, 7, 8, 9, 10]\n"
     ]
    }
   ],
   "source": [
    "# 반복문을 이용한 구현\n",
    "array = [i for i in range(1, 11)]\n",
    "\n",
    "def binary_search_loop(array, value, start, end):\n",
    "    \n",
    "\n",
    "\n",
    "\n"
   ]
  },
  {
   "cell_type": "code",
   "execution_count": null,
   "id": "66b275d7",
   "metadata": {},
   "outputs": [],
   "source": [
    "ar = [2]\n"
   ]
  },
  {
   "cell_type": "code",
   "execution_count": 2,
   "id": "3194f108",
   "metadata": {},
   "outputs": [],
   "source": [
    "# 일반 반복문을 이용한 구현"
   ]
  },
  {
   "cell_type": "code",
   "execution_count": null,
   "id": "6af6018f",
   "metadata": {},
   "outputs": [],
   "source": []
  }
 ],
 "metadata": {
  "kernelspec": {
   "display_name": "DA",
   "language": "python",
   "name": "da"
  },
  "language_info": {
   "codemirror_mode": {
    "name": "ipython",
    "version": 3
   },
   "file_extension": ".py",
   "mimetype": "text/x-python",
   "name": "python",
   "nbconvert_exporter": "python",
   "pygments_lexer": "ipython3",
   "version": "3.8.12"
  }
 },
 "nbformat": 4,
 "nbformat_minor": 5
}
