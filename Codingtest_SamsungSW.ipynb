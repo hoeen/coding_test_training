{
 "cells": [
  {
   "cell_type": "markdown",
   "id": "36783abb",
   "metadata": {},
   "source": [
    "어항  \n",
    "\n",
    "최소 어항 물고기 1마리씩\n",
    "\n",
    "- 공중부양 -\n",
    "왼쪽어항을 위로 쌓음\n",
    "\n",
    "2개이상 쌓여있는 어항을 공중부양 - 오른쪽 90도 회전 - 위에 쌓는다\n",
    "\n",
    "말아넣는다는 느낌\n",
    "\n",
    "- 공중부양 끝나면 -\n",
    "모든 인접한 어항 - 물고기 수 차이 구함   //5 = d\n",
    "\n",
    "if d > 0:  많은곳의 d를 적은곳으로 보냄\n",
    "\n",
    "- 다시 바닥에 일렬 - \n",
    "왼쪽, 아래부터 순서대로 \n",
    "\n",
    "- 다시 공중부양 ㅅㅂ -\n",
    "왼쪽 N/2개 180도 - 위에  이거 두번. 즉 바닥 어항수 N/4개가 됨\n",
    "\n",
    "- 다시 물고기 조절작업 - \n",
    "모든 인접한 어항 - 물고기 수 차이 구함   //5 = d\n",
    "\n",
    "if d > 0:  많은곳의 d를 적은곳으로 보냄\n",
    "\n",
    "- 다시 바닥에 일렬 - \n",
    "끝!! ㅅㅂ\n",
    "\n",
    "마지막 - max - min 이 k 보다 작을때까지 이를 반복한다."
   ]
  },
  {
   "cell_type": "code",
   "execution_count": 6,
   "id": "adc04a13",
   "metadata": {},
   "outputs": [
    {
     "name": "stdout",
     "output_type": "stream",
     "text": [
      "8 7\n",
      "5 2 3 14 9 2 11 8\n",
      "[5, 2, 3, 14, 9, 2, 11, 8] 8 7\n"
     ]
    }
   ],
   "source": [
    "# 정렬?\n",
    "'''\n",
    "8 7\n",
    "5 2 3 14 9 2 11 8'''\n",
    "\n",
    "n, m = map(int,input().split(' '))\n",
    "\n",
    "init_list = [int(i) for i in input().split(' ')]\n",
    "print(init_list, n, m)\n",
    "    \n",
    "    "
   ]
  },
  {
   "cell_type": "code",
   "execution_count": 35,
   "id": "f52169d8",
   "metadata": {},
   "outputs": [
    {
     "data": {
      "text/plain": [
       "[[-1, -1, -1, -1, -1, -1, -1, -1, -1],\n",
       " [-1, -1, -1, -1, -1, -1, -1, -1, -1],\n",
       " [-1, -1, -1, -1, -1, -1, -1, -1, -1],\n",
       " [-1, -1, -1, -1, -1, -1, -1, -1, -1],\n",
       " [-1, -1, -1, -1, -1, -1, -1, -1, -1],\n",
       " [-1, -1, -1, -1, -1, -1, -1, -1, -1],\n",
       " [-1, -1, -1, -1, -1, -1, -1, -1, -1],\n",
       " [-1, 5, -1, -1, -1, -1, -1, -1, -1],\n",
       " [-1, 3, 3, 14, 9, 3, 11, 8, -1]]"
      ]
     },
     "execution_count": 35,
     "metadata": {},
     "output_type": "execute_result"
    }
   ],
   "source": [
    "init_list = [5, 2, 3, 14, 9, 2, 11, 8]\n",
    "\n",
    "# 최소어항에 물고기 1마리 추가\n",
    "for i in range(len(init_list)):\n",
    "    if init_list[i] == min(init_list):\n",
    "        init_list[i] += 1\n",
    "\n",
    "# 어항 쌓기 - 공중부양\n",
    "# 2차원 리스트로 가자\n",
    "# 이때 인접한 어항에서 차이 구하는 방법?\n",
    "# BFS, DFS - 큐, 스택\n",
    "\n",
    "\n",
    "# n by n\n",
    "board = [[-1]*(n+1) for _ in range(n+1)]\n",
    "for j in range(0,len(init_list)):\n",
    "    board[n][j] = init_list[j]\n",
    "\n",
    "# 첫번째 쌓기\n",
    "board[n][0], board[n-1][1] = board[n-1][1], board[n][0]\n",
    "board\n"
   ]
  },
  {
   "cell_type": "code",
   "execution_count": 36,
   "id": "8d51ed71",
   "metadata": {},
   "outputs": [
    {
     "data": {
      "text/plain": [
       "[[-1, -1, -1, -1, -1, -1, -1, -1, -1],\n",
       " [-1, -1, -1, -1, -1, -1, -1, -1, -1],\n",
       " [-1, -1, -1, -1, -1, -1, -1, -1, -1],\n",
       " [-1, -1, -1, -1, -1, -1, -1, -1, -1],\n",
       " [-1, -1, -1, -1, -1, -1, -1, -1, -1],\n",
       " [-1, -1, -1, -1, -1, -1, -1, -1, -1],\n",
       " [-1, -1, 5, -1, -1, -1, -1, -1, -1],\n",
       " [-1, -1, 3, -1, -1, -1, -1, -1, -1],\n",
       " [-1, -1, 3, 14, 9, 3, 11, 8, -1]]"
      ]
     },
     "execution_count": 36,
     "metadata": {},
     "output_type": "execute_result"
    }
   ],
   "source": [
    "# 공중부양, 회전해서 올려놓기\n",
    "# 받침이 존재하지 않으면 그만한다.\n",
    "x, y = (2, 1) # 처음엔 2x1 행렬\n",
    "# while 못쌓을떄까지:\n",
    "#     # 행렬 오른쪽 위로 이동\n",
    "temp=[]\n",
    "for xi in range(0,x):\n",
    "    push = 0\n",
    "    for yi in range(0, y): \n",
    "        # x+1, y+가로길이 swap\n",
    "        before_x, before_y = (n-xi, yi+1)\n",
    "        moved_x, moved_y = (before_x-1, before_y+y)\n",
    "        board[before_x][before_y], board[moved_x][moved_y] = board[moved_x][moved_y], board[before_x][before_y] \n",
    "       \n",
    "        # temp에 옮길 어항 추가\n",
    "        temp.append(board[before_x][before_y])\n",
    "        \n",
    "# 회전한 좌표에 다시 삽입\n",
    "# x,y 순서 바뀜    \n",
    "order = 0\n",
    "for yi in range(x-1,-1):\n",
    "    for xi in range(0,y):\n",
    "        init_x, init_y = (, yi)\n",
    "        board[n-xi-1][moved_y+(x-1)] = temp[0]\n",
    "        # 중복 문제?\n",
    "board \n",
    "\n",
    "    # 90도 회전"
   ]
  },
  {
   "cell_type": "code",
   "execution_count": null,
   "id": "3a225c2e",
   "metadata": {},
   "outputs": [],
   "source": [
    "# 회전을 어떻게 구현?\n",
    "# 한 행에서 y로 가로로 루프 돔 -> 윗행이 제일 아래로\n",
    "\n"
   ]
  }
 ],
 "metadata": {
  "kernelspec": {
   "display_name": "DA",
   "language": "python",
   "name": "da"
  },
  "language_info": {
   "codemirror_mode": {
    "name": "ipython",
    "version": 3
   },
   "file_extension": ".py",
   "mimetype": "text/x-python",
   "name": "python",
   "nbconvert_exporter": "python",
   "pygments_lexer": "ipython3",
   "version": "3.8.12"
  }
 },
 "nbformat": 4,
 "nbformat_minor": 5
}
